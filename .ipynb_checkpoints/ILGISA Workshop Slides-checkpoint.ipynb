{
 "cells": [
  {
   "cell_type": "markdown",
   "metadata": {},
   "source": [
    "# Welcome stuff"
   ]
  },
  {
   "cell_type": "markdown",
   "metadata": {},
   "source": [
    "# Installation\n",
    "\n",
    "While we're getting started, everyone should start downloading PyCharm Community edition.\n",
    "\n",
    "Located here: https://www.jetbrains.com/pycharm/download/\n",
    "\n",
    "This can be a large file, I have it on a flash drive if we need.  \n",
    "\n",
    "Does anyone not have the rights to install software?\n",
    "\n",
    "Already using Python?  If you feel comfortable in your own envirionment, use that but I provide no guarentees of support.  Just have it downloaded?  Go ahead and get PyCharm so you can follow along."
   ]
  },
  {
   "cell_type": "markdown",
   "metadata": {},
   "source": [
    "## Inside Pycharm\n",
    "\n",
    "* Use all the default installation paths\n",
    "* When you create a new package, name it something like GISPractice.\n",
    "* Right click on that project name on the left box area, select new -> Python file.\n",
    "\n",
    "* Windows folk:\n",
    "    * Download the exe file here: https://pypi.python.org/pypi/nominatim/0.1\n",
    "\n",
    "* Mac folk:\n",
    "    * Download and install developer tools: https://itunes.apple.com/us/genre/mac-developer-tools/id12002?mt=12\n",
    "    * Open up terminal and run `pip install nominatim`  You may need to use sudo.\n",
    "\n",
    "\n",
    "* Inside your .py file, type this:\n",
    "\n",
    "```import nominatim\n",
    "print \"hello world\"```\n",
    "\n",
    "* Click the green play button"
   ]
  },
  {
   "cell_type": "markdown",
   "metadata": {},
   "source": [
    "# What is Python?"
   ]
  },
  {
   "cell_type": "code",
   "execution_count": null,
   "metadata": {
    "collapsed": true
   },
   "outputs": [],
   "source": []
  },
  {
   "cell_type": "code",
   "execution_count": null,
   "metadata": {
    "collapsed": true
   },
   "outputs": [],
   "source": []
  },
  {
   "cell_type": "markdown",
   "metadata": {},
   "source": [
    "# How to make your commands run"
   ]
  },
  {
   "cell_type": "markdown",
   "metadata": {},
   "source": [
    "## Running scrips in PyCharm"
   ]
  },
  {
   "cell_type": "markdown",
   "metadata": {},
   "source": [
    "## Using the interpreter in PyCharm"
   ]
  },
  {
   "cell_type": "markdown",
   "metadata": {},
   "source": [
    "At the bottom left of the PyCharm window you'll see a square with a line under it.  Click that, then click Python Console.  You can also press ctrl/cmd + 4.  General theme here:  type stuff, press enter, stuff happens."
   ]
  },
  {
   "cell_type": "markdown",
   "metadata": {},
   "source": [
    "## `print` statements"
   ]
  },
  {
   "cell_type": "code",
   "execution_count": null,
   "metadata": {
    "collapsed": true
   },
   "outputs": [],
   "source": []
  },
  {
   "cell_type": "code",
   "execution_count": null,
   "metadata": {
    "collapsed": true
   },
   "outputs": [],
   "source": []
  },
  {
   "cell_type": "markdown",
   "metadata": {},
   "source": [
    "## expressions"
   ]
  },
  {
   "cell_type": "code",
   "execution_count": null,
   "metadata": {
    "collapsed": true
   },
   "outputs": [],
   "source": []
  },
  {
   "cell_type": "code",
   "execution_count": null,
   "metadata": {
    "collapsed": true
   },
   "outputs": [],
   "source": []
  },
  {
   "cell_type": "markdown",
   "metadata": {},
   "source": [
    "# Core Objects"
   ]
  },
  {
   "cell_type": "markdown",
   "metadata": {},
   "source": [
    "## `int` vs. `float`"
   ]
  },
  {
   "cell_type": "markdown",
   "metadata": {},
   "source": [
    "## `string`"
   ]
  },
  {
   "cell_type": "markdown",
   "metadata": {},
   "source": [
    "## `list`"
   ]
  },
  {
   "cell_type": "markdown",
   "metadata": {},
   "source": [
    "# `for` loops"
   ]
  },
  {
   "cell_type": "markdown",
   "metadata": {},
   "source": [
    "## What is a loop?"
   ]
  },
  {
   "cell_type": "code",
   "execution_count": null,
   "metadata": {
    "collapsed": true
   },
   "outputs": [],
   "source": []
  },
  {
   "cell_type": "code",
   "execution_count": null,
   "metadata": {
    "collapsed": true
   },
   "outputs": [],
   "source": []
  },
  {
   "cell_type": "markdown",
   "metadata": {},
   "source": [
    "## `for` versus `while`"
   ]
  },
  {
   "cell_type": "code",
   "execution_count": null,
   "metadata": {
    "collapsed": true
   },
   "outputs": [],
   "source": []
  },
  {
   "cell_type": "code",
   "execution_count": null,
   "metadata": {
    "collapsed": true
   },
   "outputs": [],
   "source": []
  },
  {
   "cell_type": "code",
   "execution_count": null,
   "metadata": {
    "collapsed": true
   },
   "outputs": [],
   "source": []
  },
  {
   "cell_type": "markdown",
   "metadata": {},
   "source": [
    "## Let's do some stuff with range"
   ]
  },
  {
   "cell_type": "markdown",
   "metadata": {},
   "source": [
    "Let's print out all the longitude values, incrementing by 15 degrees."
   ]
  },
  {
   "cell_type": "code",
   "execution_count": 1,
   "metadata": {
    "collapsed": false
   },
   "outputs": [
    {
     "name": "stdout",
     "output_type": "stream",
     "text": [
      "-180\n",
      "-165\n",
      "-150\n",
      "-135\n",
      "-120\n",
      "-105\n",
      "-90\n",
      "-75\n",
      "-60\n",
      "-45\n",
      "-30\n",
      "-15\n",
      "0\n",
      "15\n",
      "30\n",
      "45\n",
      "60\n",
      "75\n",
      "90\n",
      "105\n",
      "120\n",
      "135\n",
      "150\n",
      "165\n",
      "180\n"
     ]
    }
   ],
   "source": [
    "for i in range(-180, 181, 15):\n",
    "    print i"
   ]
  },
  {
   "cell_type": "markdown",
   "metadata": {},
   "source": [
    "Great, so I've printed a bunch of numbers.\n",
    "\n",
    "Yes, yes you have.\n",
    "\n",
    "Use your imagination for application!"
   ]
  },
  {
   "cell_type": "markdown",
   "metadata": {},
   "source": [
    "Let's look at this basic syntax:"
   ]
  },
  {
   "cell_type": "code",
   "execution_count": 3,
   "metadata": {
    "collapsed": true
   },
   "outputs": [],
   "source": [
    "iterable_object = ['a', 'b', 'c', 'd']"
   ]
  },
  {
   "cell_type": "code",
   "execution_count": 4,
   "metadata": {
    "collapsed": false
   },
   "outputs": [
    {
     "name": "stdout",
     "output_type": "stream",
     "text": [
      "a\n",
      "b\n",
      "c\n",
      "d\n"
     ]
    }
   ],
   "source": [
    "for iterable_variable in iterable_object:\n",
    "    # do something to the iterable_varilable\n",
    "    print iterable_variable"
   ]
  },
  {
   "cell_type": "markdown",
   "metadata": {
    "collapsed": true
   },
   "source": [
    "This iterable variable is named and created when the for loop first executes.  This variable will hold the individual value being looped over.  You can call it and do things to the value, or you can just ignore it.\n",
    "\n",
    "`for` loops are one of the most vital tools when dealing with data.  These are loops you use when you have a specific number of things to run the loop over.  For example, \"For each of the lines of data...\" or \"For each coordinate pair in my data file...\"\n",
    "\n",
    "`while` loops are on the other end of the loop spectrum.  These are indeterminate loops becuase you don't know how many times you need to run the loop.  For example, \"Until the coordinates are out of range...\" or \"While the areas is less than 1,000 acres...\"\n",
    "\n",
    "Let's review the syntax for the `while` loop, but we won't be covering it in the demos in class."
   ]
  },
  {
   "cell_type": "code",
   "execution_count": 12,
   "metadata": {
    "collapsed": false
   },
   "outputs": [
    {
     "name": "stdout",
     "output_type": "stream",
     "text": [
      "34\n",
      "72\n",
      "104\n",
      "141\n",
      "191\n",
      "233\n",
      "278\n",
      "324\n",
      "360\n",
      "392\n",
      "434\n",
      "471\n",
      "515\n",
      "551\n",
      "594\n",
      "638\n",
      "680\n",
      "717\n",
      "765\n",
      "802\n",
      "841\n",
      "881\n",
      "921\n",
      "951\n",
      "983\n",
      "1016\n",
      "Final area is 1016 using 26 plots\n"
     ]
    }
   ],
   "source": [
    "import random\n",
    "\n",
    "area = 0\n",
    "target = 1000\n",
    "plot_count = 0\n",
    "\n",
    "while area < target:\n",
    "    plot_size = random.randint(30,50)\n",
    "    area = area + plot_size\n",
    "    plot_count = plot_count + 1\n",
    "    print area\n",
    "    \n",
    "print \"Final area is\", area, \"using\", plot_count, \"plots\""
   ]
  },
  {
   "cell_type": "markdown",
   "metadata": {},
   "source": [
    "`while` loops can be very tricky and are worth practicing before really using.  However, they can be very powerful control structures."
   ]
  },
  {
   "cell_type": "markdown",
   "metadata": {},
   "source": [
    "# Reading in data"
   ]
  },
  {
   "cell_type": "markdown",
   "metadata": {},
   "source": [
    "When we read in a file we need to store the data in some way. There are many methods and structures to accomplish this.  The best way will be something you are comfortable with and fits the data.  Chances are you'll develop one way you're comfortable with that works with most of the data you work with."
   ]
  },
  {
   "cell_type": "markdown",
   "metadata": {},
   "source": [
    "## Opening and reading a file"
   ]
  },
  {
   "cell_type": "markdown",
   "metadata": {},
   "source": [
    "There are two methods of opening a file.  `open()` and `close()` or `with`.  I'll be showing you the `with` statement the most, but we'll go over both quickly."
   ]
  },
  {
   "cell_type": "markdown",
   "metadata": {},
   "source": [
    "In both cases, start with the file path as a string.  In this case, we're doing a relative path because the file is a sibling to this notebook in the file system.\n",
    "\n",
    "For more commands and options: https://docs.python.org/2/tutorial/inputoutput.html#reading-and-writing-files"
   ]
  },
  {
   "cell_type": "code",
   "execution_count": 31,
   "metadata": {
    "collapsed": true
   },
   "outputs": [],
   "source": [
    "filename_relative = 'chicacoCSA.csv'\n",
    "filename_full = '/Users/wickes1/Documents/wickes-ilgisa-workshop-2015/chicacoCSA.csv'\n",
    "# windows full paths will look different!"
   ]
  },
  {
   "cell_type": "markdown",
   "metadata": {},
   "source": [
    "Now we need to make our file object."
   ]
  },
  {
   "cell_type": "code",
   "execution_count": 52,
   "metadata": {
    "collapsed": true
   },
   "outputs": [],
   "source": [
    "f = open(filename_relative)"
   ]
  },
  {
   "cell_type": "markdown",
   "metadata": {},
   "source": [
    "Now we read in the file"
   ]
  },
  {
   "cell_type": "code",
   "execution_count": 53,
   "metadata": {
    "collapsed": false
   },
   "outputs": [],
   "source": [
    "data = f.readlines()"
   ]
  },
  {
   "cell_type": "code",
   "execution_count": 54,
   "metadata": {
    "collapsed": false
   },
   "outputs": [
    {
     "name": "stdout",
     "output_type": "stream",
     "text": [
      "['Rank,Urban area,type,Population,Land area,Smallest gap\\r1,\"Chicago-Aurora-Elgin-Joliet-Waukegan, IL-IN\",UA,\"8,307,904\",\"5,498.10\",n/a\\r2,\"Round Lake Beach-McHenry-Grayslake, IL-WI\",UA,\"226,848\",344.9,2\\r3,\"Kenosha, WI\",UA,\"110,942\",109.2,1\\r4,\"Michigan City-LaPorte, IN-MI\",UA,\"66,199\",86.1,3\\r5,\"Kankakee-Bradley-Bourbonnais, IL\",UA,\"65,073\",71.5,>10\\r6,\"DeKalb-Sycamore, IL\",UA,\"55,805\",46.3,>10\\r7,\"Woodstock, IL\",UC,\"20,219\",21.1,4\\r8,\"Morris, IL\",UC,\"13,927\",19.3,>10\\r9,\"Sandwich, IL\",UC,\"12,248\",23.9,>10\\r10,\"Braidwood-Coal City, IL\",UC,\"11,607\",19.5,>10\\r11,\"Harvard, IL\",UC,\"8,575\",13.3,>10\\r12,\"Lakes of the Four Seasons, IN\",UC,\"8,450\",12.5,4\\r13,\"Lowell, IN\",UC,\"7,914\",15.8,>10\\r14,\"Wilmington, IL\",UC,\"7,107\",20.8,>10\\r15,\"Manteno, IL\",UC,\"7,106\",9.4,>10\\r16,\"Marengo, IL\",UC,\"6,854\",8.6,>10\\r17,\"Rensselaer, IN\",UC,\"6,096\",10.9,>10\\r18,\"Plano, IL\",UC,\"5,911\",6.5,3\\r19,\"Genoa, IL\",UC,\"5,137\",5.5,>10\\r20,\"Genoa City, WI-IL\",UC,\"5,126\",12.5,>10\\r21,\"Westville, IN\",UC,\"5,077\",4.4,>10\\r22,\"Hebron, IN\",UC,\"4,150\",11.7,>10\\r23,\"Momence, IL\",UC,\"3,711\",9.7,>10\\r24,\"Peotone, IL\",UC,\"3,358\",3.5,9\\r25,\"Wonder Lake, IL\",UC,\"2,798\",2,5\\r26,\"Monee, IL\",UC,\"2,787\",3.7,3\\r27,\"Union Township, Porter County, IN\",UC,\"2,593\",4.9,1\\r28,\"Hampshire, IL\",UC,\"2,591\",2,6']\n"
     ]
    }
   ],
   "source": [
    "print data"
   ]
  },
  {
   "cell_type": "code",
   "execution_count": null,
   "metadata": {
    "collapsed": true
   },
   "outputs": [],
   "source": []
  },
  {
   "cell_type": "markdown",
   "metadata": {},
   "source": [
    "## Opening and reading a CSV file"
   ]
  },
  {
   "cell_type": "markdown",
   "metadata": {},
   "source": [
    "When we're opening a CSV file, we should import the CSV module.  This brings in the CSV helper functions.  These modules know what a CSV is, how text should be sanitized, etc.  You *can* do this yourself.........but you don't want to.  Just use the CSV module.\n",
    "\n",
    "Do you have data with lots of unicode text and in Python 2?  Install the `unicodecsv` package from pypi: https://pypi.python.org/pypi/unicodecsv.\n",
    "\n",
    "`pip install unicodecsv`"
   ]
  },
  {
   "cell_type": "code",
   "execution_count": 13,
   "metadata": {
    "collapsed": true
   },
   "outputs": [],
   "source": [
    "import csv"
   ]
  },
  {
   "cell_type": "markdown",
   "metadata": {},
   "source": [
    "We can now call the csv module functions by appending them to `csv`.\n",
    "\n",
    "The two core functions you'll use are:\n",
    "* `csv.reader(file object)` to create a reading object\n",
    "* `csv.writer(file object` to create a writing object.\n",
    "\n",
    "When we write files we use these two functions:\n",
    "\n",
    "* `writerow(row)` to write a single row\n",
    "* `writerows(list of lists)` to write many rows"
   ]
  },
  {
   "cell_type": "markdown",
   "metadata": {},
   "source": [
    "Below are some basic formulas for reading in data.  Many of these formulas came from chapter 6 of the [Python Cookbook (third edition)](http://chimera.labs.oreilly.com/books/1230000000393).  Not all of this syntax will make sense, but just treat it as a formula for now.  Things will make more sense as you learn more about Python.\n",
    "\n",
    "You can read the chapter for free here:  http://chimera.labs.oreilly.com/books/1230000000393/ch06.html"
   ]
  },
  {
   "cell_type": "code",
   "execution_count": 29,
   "metadata": {
    "collapsed": false
   },
   "outputs": [],
   "source": [
    "with open('chicago.csv', 'rU') as file_in:\n",
    "    file_in = csv.reader(file_in)\n",
    "    headers = next(file_in)\n",
    "    data = []\n",
    "    for line in file_in:\n",
    "        data.append(line)"
   ]
  },
  {
   "cell_type": "code",
   "execution_count": 30,
   "metadata": {
    "collapsed": false
   },
   "outputs": [
    {
     "name": "stdout",
     "output_type": "stream",
     "text": [
      "['1', 'Chicago-Aurora-Elgin-Joliet-Waukegan, IL-IN', 'UA', '8,307,904', '5,498.10', 'n/a']\n",
      "['2', 'Round Lake Beach-McHenry-Grayslake, IL-WI', 'UA', '226,848', '344.9', '2']\n",
      "['3', 'Kenosha, WI', 'UA', '110,942', '109.2', '1']\n",
      "['4', 'Michigan City-LaPorte, IN-MI', 'UA', '66,199', '86.1', '3']\n",
      "['5', 'Kankakee-Bradley-Bourbonnais, IL', 'UA', '65,073', '71.5', '>10']\n",
      "['6', 'DeKalb-Sycamore, IL', 'UA', '55,805', '46.3', '>10']\n",
      "['7', 'Woodstock, IL', 'UC', '20,219', '21.1', '4']\n",
      "['8', 'Morris, IL', 'UC', '13,927', '19.3', '>10']\n",
      "['9', 'Sandwich, IL', 'UC', '12,248', '23.9', '>10']\n",
      "['10', 'Braidwood-Coal City, IL', 'UC', '11,607', '19.5', '>10']\n",
      "['11', 'Harvard, IL', 'UC', '8,575', '13.3', '>10']\n",
      "['12', 'Lakes of the Four Seasons, IN', 'UC', '8,450', '12.5', '4']\n",
      "['13', 'Lowell, IN', 'UC', '7,914', '15.8', '>10']\n",
      "['14', 'Wilmington, IL', 'UC', '7,107', '20.8', '>10']\n",
      "['15', 'Manteno, IL', 'UC', '7,106', '9.4', '>10']\n",
      "['16', 'Marengo, IL', 'UC', '6,854', '8.6', '>10']\n",
      "['17', 'Rensselaer, IN', 'UC', '6,096', '10.9', '>10']\n",
      "['18', 'Plano, IL', 'UC', '5,911', '6.5', '3']\n",
      "['19', 'Genoa, IL', 'UC', '5,137', '5.5', '>10']\n",
      "['20', 'Genoa City, WI-IL', 'UC', '5,126', '12.5', '>10']\n",
      "['21', 'Westville, IN', 'UC', '5,077', '4.4', '>10']\n",
      "['22', 'Hebron, IN', 'UC', '4,150', '11.7', '>10']\n",
      "['23', 'Momence, IL', 'UC', '3,711', '9.7', '>10']\n",
      "['24', 'Peotone, IL', 'UC', '3,358', '3.5', '9']\n",
      "['25', 'Wonder Lake, IL', 'UC', '2,798', '2', '5']\n",
      "['26', 'Monee, IL', 'UC', '2,787', '3.7', '3']\n",
      "['27', 'Union Township, Porter County, IN', 'UC', '2,593', '4.9', '1']\n",
      "['28', 'Hampshire, IL', 'UC', '2,591', '2', '6']\n"
     ]
    }
   ],
   "source": [
    "for l in data:\n",
    "    print l"
   ]
  },
  {
   "cell_type": "code",
   "execution_count": null,
   "metadata": {
    "collapsed": true
   },
   "outputs": [],
   "source": []
  },
  {
   "cell_type": "code",
   "execution_count": null,
   "metadata": {
    "collapsed": true
   },
   "outputs": [],
   "source": []
  }
 ],
 "metadata": {
  "kernelspec": {
   "display_name": "Python 2",
   "language": "python",
   "name": "python2"
  },
  "language_info": {
   "codemirror_mode": {
    "name": "ipython",
    "version": 2
   },
   "file_extension": ".py",
   "mimetype": "text/x-python",
   "name": "python",
   "nbconvert_exporter": "python",
   "pygments_lexer": "ipython2",
   "version": "2.7.6"
  }
 },
 "nbformat": 4,
 "nbformat_minor": 0
}
