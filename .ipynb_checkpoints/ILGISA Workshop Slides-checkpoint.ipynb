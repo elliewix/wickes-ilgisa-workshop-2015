{
 "cells": [
  {
   "cell_type": "markdown",
   "metadata": {},
   "source": [
    "# Welcome stuff"
   ]
  },
  {
   "cell_type": "markdown",
   "metadata": {},
   "source": [
    "# Installation\n",
    "\n",
    "While we're getting started, everyone should start downloading PyCharm Community edition.\n",
    "\n",
    "Located here: https://www.jetbrains.com/pycharm/download/\n",
    "\n",
    "This can be a large file, I have it on a flash drive if we need.  \n",
    "\n",
    "Does anyone not have the rights to install software?\n",
    "\n",
    "Already using Python?  If you feel comfortable in your own envirionment, use that but I provide no guarentees of support.  Just have it downloaded?  Go ahead and get PyCharm so you can follow along."
   ]
  },
  {
   "cell_type": "markdown",
   "metadata": {},
   "source": [
    "## Inside Pycharm\n",
    "\n",
    "* Use all the default installation paths\n",
    "* When you create a new package, name it something like GISPractice.\n",
    "* Right click on that project name on the left box area, select new -> Python file.\n",
    "\n",
    "* Windows folk:\n",
    "    * Download the exe file here: https://pypi.python.org/pypi/nominatim/0.1\n",
    "\n",
    "* Mac folk:\n",
    "    * Download and install developer tools: https://itunes.apple.com/us/genre/mac-developer-tools/id12002?mt=12\n",
    "    * Open up terminal and run `pip install nominatim`  You may need to use sudo.\n",
    "\n",
    "\n",
    "* Inside your .py file, type this:\n",
    "\n",
    "```import nominatim\n",
    "print \"hello world\"```\n",
    "\n",
    "* Click the green play button"
   ]
  },
  {
   "cell_type": "markdown",
   "metadata": {},
   "source": [
    "# What is Python?"
   ]
  },
  {
   "cell_type": "code",
   "execution_count": null,
   "metadata": {
    "collapsed": true
   },
   "outputs": [],
   "source": []
  },
  {
   "cell_type": "code",
   "execution_count": null,
   "metadata": {
    "collapsed": true
   },
   "outputs": [],
   "source": []
  },
  {
   "cell_type": "markdown",
   "metadata": {},
   "source": [
    "# How to make your commands run"
   ]
  },
  {
   "cell_type": "markdown",
   "metadata": {},
   "source": [
    "## Running scrips in PyCharm"
   ]
  },
  {
   "cell_type": "markdown",
   "metadata": {},
   "source": [
    "## Using the interpreter in PyCharm"
   ]
  },
  {
   "cell_type": "markdown",
   "metadata": {},
   "source": [
    "At the bottom left of the PyCharm window you'll see a square with a line under it.  Click that, then click Python Console.  You can also press ctrl/cmd + 4.  General theme here:  type stuff, press enter, stuff happens."
   ]
  },
  {
   "cell_type": "markdown",
   "metadata": {},
   "source": [
    "## `print` statements"
   ]
  },
  {
   "cell_type": "code",
   "execution_count": null,
   "metadata": {
    "collapsed": true
   },
   "outputs": [],
   "source": []
  },
  {
   "cell_type": "code",
   "execution_count": null,
   "metadata": {
    "collapsed": true
   },
   "outputs": [],
   "source": []
  },
  {
   "cell_type": "markdown",
   "metadata": {},
   "source": [
    "## expressions"
   ]
  },
  {
   "cell_type": "code",
   "execution_count": null,
   "metadata": {
    "collapsed": true
   },
   "outputs": [],
   "source": []
  },
  {
   "cell_type": "code",
   "execution_count": null,
   "metadata": {
    "collapsed": true
   },
   "outputs": [],
   "source": []
  },
  {
   "cell_type": "markdown",
   "metadata": {},
   "source": [
    "# Core Objects"
   ]
  },
  {
   "cell_type": "markdown",
   "metadata": {},
   "source": [
    "## `int` vs. `float`"
   ]
  },
  {
   "cell_type": "markdown",
   "metadata": {},
   "source": [
    "## `string`"
   ]
  },
  {
   "cell_type": "markdown",
   "metadata": {},
   "source": [
    "## `list`"
   ]
  },
  {
   "cell_type": "markdown",
   "metadata": {},
   "source": [
    "# `for` loops"
   ]
  },
  {
   "cell_type": "markdown",
   "metadata": {},
   "source": [
    "## What is a loop?"
   ]
  },
  {
   "cell_type": "code",
   "execution_count": null,
   "metadata": {
    "collapsed": true
   },
   "outputs": [],
   "source": []
  },
  {
   "cell_type": "code",
   "execution_count": null,
   "metadata": {
    "collapsed": true
   },
   "outputs": [],
   "source": []
  },
  {
   "cell_type": "markdown",
   "metadata": {},
   "source": [
    "## `for` versus `while`"
   ]
  },
  {
   "cell_type": "code",
   "execution_count": null,
   "metadata": {
    "collapsed": true
   },
   "outputs": [],
   "source": []
  },
  {
   "cell_type": "code",
   "execution_count": null,
   "metadata": {
    "collapsed": true
   },
   "outputs": [],
   "source": []
  },
  {
   "cell_type": "code",
   "execution_count": null,
   "metadata": {
    "collapsed": true
   },
   "outputs": [],
   "source": []
  },
  {
   "cell_type": "markdown",
   "metadata": {},
   "source": [
    "## Let's do some stuff with range"
   ]
  },
  {
   "cell_type": "markdown",
   "metadata": {},
   "source": [
    "Let's print out all the longitude values, incrementing by 15 degrees."
   ]
  },
  {
   "cell_type": "code",
   "execution_count": 1,
   "metadata": {
    "collapsed": false
   },
   "outputs": [
    {
     "name": "stdout",
     "output_type": "stream",
     "text": [
      "-180\n",
      "-165\n",
      "-150\n",
      "-135\n",
      "-120\n",
      "-105\n",
      "-90\n",
      "-75\n",
      "-60\n",
      "-45\n",
      "-30\n",
      "-15\n",
      "0\n",
      "15\n",
      "30\n",
      "45\n",
      "60\n",
      "75\n",
      "90\n",
      "105\n",
      "120\n",
      "135\n",
      "150\n",
      "165\n",
      "180\n"
     ]
    }
   ],
   "source": [
    "for i in range(-180, 181, 15):\n",
    "    print i"
   ]
  },
  {
   "cell_type": "markdown",
   "metadata": {},
   "source": [
    "Great, so I've printed a bunch of numbers.\n",
    "\n",
    "Yes, yes you have.\n",
    "\n",
    "Use your imagination for application!"
   ]
  },
  {
   "cell_type": "markdown",
   "metadata": {},
   "source": [
    "Let's look at this basic syntax:"
   ]
  },
  {
   "cell_type": "code",
   "execution_count": 3,
   "metadata": {
    "collapsed": true
   },
   "outputs": [],
   "source": [
    "iterable_object = ['a', 'b', 'c', 'd']"
   ]
  },
  {
   "cell_type": "code",
   "execution_count": 4,
   "metadata": {
    "collapsed": false
   },
   "outputs": [
    {
     "name": "stdout",
     "output_type": "stream",
     "text": [
      "a\n",
      "b\n",
      "c\n",
      "d\n"
     ]
    }
   ],
   "source": [
    "for iterable_variable in iterable_object:\n",
    "    # do something to the iterable_varilable\n",
    "    print iterable_variable"
   ]
  },
  {
   "cell_type": "markdown",
   "metadata": {
    "collapsed": true
   },
   "source": [
    "This iterable variable is named and created when the for loop first executes.  This variable will hold the individual value being looped over.  You can call it and do things to the value, or you can just ignore it.\n",
    "\n",
    "`for` loops are one of the most vital tools when dealing with data.  These are loops you use when you have a specific number of things to run the loop over.  For example, \"For each of the lines of data...\" or \"For each coordinate pair in my data file...\"\n",
    "\n",
    "`while` loops are on the other end of the loop spectrum.  These are indeterminate loops becuase you don't know how many times you need to run the loop.  For example, \"Until the coordinates are out of range...\" or \"While the areas is less than 1,000 acres...\"\n",
    "\n",
    "Let's review the syntax for the `while` loop, but we won't be covering it in the demos in class."
   ]
  },
  {
   "cell_type": "code",
   "execution_count": 12,
   "metadata": {
    "collapsed": false
   },
   "outputs": [
    {
     "name": "stdout",
     "output_type": "stream",
     "text": [
      "34\n",
      "72\n",
      "104\n",
      "141\n",
      "191\n",
      "233\n",
      "278\n",
      "324\n",
      "360\n",
      "392\n",
      "434\n",
      "471\n",
      "515\n",
      "551\n",
      "594\n",
      "638\n",
      "680\n",
      "717\n",
      "765\n",
      "802\n",
      "841\n",
      "881\n",
      "921\n",
      "951\n",
      "983\n",
      "1016\n",
      "Final area is 1016 using 26 plots\n"
     ]
    }
   ],
   "source": [
    "import random\n",
    "\n",
    "area = 0\n",
    "target = 1000\n",
    "plot_count = 0\n",
    "\n",
    "while area < target:\n",
    "    plot_size = random.randint(30,50)\n",
    "    area = area + plot_size\n",
    "    plot_count = plot_count + 1\n",
    "    print area\n",
    "    \n",
    "print \"Final area is\", area, \"using\", plot_count, \"plots\""
   ]
  },
  {
   "cell_type": "markdown",
   "metadata": {},
   "source": [
    "`while` loops can be very tricky and are worth practicing before really using.  However, they can be very powerful control structures."
   ]
  },
  {
   "cell_type": "markdown",
   "metadata": {},
   "source": [
    "# Reading in data"
   ]
  },
  {
   "cell_type": "markdown",
   "metadata": {},
   "source": [
    "When we read in a file we need to store the data in some way. There are many methods and structures to accomplish this.  The best way will be something you are comfortable with and fits the data.  Chances are you'll develop one way you're comfortable with that works with most of the data you work with."
   ]
  },
  {
   "cell_type": "markdown",
   "metadata": {},
   "source": [
    "## Opening and reading a file"
   ]
  },
  {
   "cell_type": "markdown",
   "metadata": {},
   "source": [
    "There are two methods of opening a file.  `open()` and `close()` or `with`.  I'll be showing you the `with` statement the most, but we'll go over both quickly."
   ]
  },
  {
   "cell_type": "markdown",
   "metadata": {},
   "source": [
    "In both cases, start with the file path as a string.  In this case, we're doing a relative path because the file is a sibling to this notebook in the file system.\n",
    "\n",
    "For more commands and options: https://docs.python.org/2/tutorial/inputoutput.html#reading-and-writing-files"
   ]
  },
  {
   "cell_type": "code",
   "execution_count": 31,
   "metadata": {
    "collapsed": true
   },
   "outputs": [],
   "source": [
    "filename_relative = 'chicacoCSA.csv'\n",
    "filename_full = '/Users/wickes1/Documents/wickes-ilgisa-workshop-2015/chicacoCSA.csv'\n",
    "# windows full paths will look different!"
   ]
  },
  {
   "cell_type": "markdown",
   "metadata": {},
   "source": [
    "Now we need to make our file object."
   ]
  },
  {
   "cell_type": "code",
   "execution_count": 81,
   "metadata": {
    "collapsed": true
   },
   "outputs": [],
   "source": [
    "f = open(filename_relative, 'rU')"
   ]
  },
  {
   "cell_type": "markdown",
   "metadata": {},
   "source": [
    "Now we read in the file"
   ]
  },
  {
   "cell_type": "code",
   "execution_count": 82,
   "metadata": {
    "collapsed": false
   },
   "outputs": [],
   "source": [
    "data = f.read()"
   ]
  },
  {
   "cell_type": "markdown",
   "metadata": {},
   "source": [
    "We can see the raw text values here."
   ]
  },
  {
   "cell_type": "code",
   "execution_count": 84,
   "metadata": {
    "collapsed": false
   },
   "outputs": [
    {
     "name": "stdout",
     "output_type": "stream",
     "text": [
      "Rank,Urban area,type,Population,Land area,Smallest gap\n",
      "1,\"Chicago-Aurora-Elgin-Joliet-Waukegan, IL-IN\",UA,\"8,307,904\",\"5,498.10\",n/a\n",
      "2,\"Round Lake Beach-McHenry-Grayslake, IL-WI\",UA,\"226,848\",344.9,2\n",
      "3,\"Kenosha, WI\",UA,\"110,942\",109.2,1\n",
      "4,\"Michigan City-LaPorte, IN-MI\",UA,\"66,199\",86.1,3\n",
      "5,\"Kankakee-Bradley-Bourbonnais, IL\",UA,\"65,073\",71.5,>10\n",
      "6,\"DeKalb-Sycamore, IL\",UA,\"55,805\",46.3,>10\n",
      "7,\"Woodstock, IL\",UC,\"20,219\",21.1,4\n",
      "8,\"Morris, IL\",UC,\"13,927\",19.3,>10\n",
      "9,\"Sandwich, IL\",UC,\"12,248\",23.9,>10\n",
      "10,\"Braidwood-Coal City, IL\",UC,\"11,607\",19.5,>10\n",
      "11,\"Harvard, IL\",UC,\"8,575\",13.3,>10\n",
      "12,\"Lakes of the Four Seasons, IN\",UC,\"8,450\",12.5,4\n",
      "13,\"Lowell, IN\",UC,\"7,914\",15.8,>10\n",
      "14,\"Wilmington, IL\",UC,\"7,107\",20.8,>10\n",
      "15,\"Manteno, IL\",UC,\"7,106\",9.4,>10\n",
      "16,\"Marengo, IL\",UC,\"6,854\",8.6,>10\n",
      "17,\"Rensselaer, IN\",UC,\"6,096\",10.9,>10\n",
      "18,\"Plano, IL\",UC,\"5,911\",6.5,3\n",
      "19,\"Genoa, IL\",UC,\"5,137\",5.5,>10\n",
      "20,\"Genoa City, WI-IL\",UC,\"5,126\",12.5,>10\n",
      "21,\"Westville, IN\",UC,\"5,077\",4.4,>10\n",
      "22,\"Hebron, IN\",UC,\"4,150\",11.7,>10\n",
      "23,\"Momence, IL\",UC,\"3,711\",9.7,>10\n",
      "24,\"Peotone, IL\",UC,\"3,358\",3.5,9\n",
      "25,\"Wonder Lake, IL\",UC,\"2,798\",2,5\n",
      "26,\"Monee, IL\",UC,\"2,787\",3.7,3\n",
      "27,\"Union Township, Porter County, IN\",UC,\"2,593\",4.9,1\n",
      "28,\"Hampshire, IL\",UC,\"2,591\",2,6\n"
     ]
    }
   ],
   "source": [
    "print data"
   ]
  },
  {
   "cell_type": "markdown",
   "metadata": {},
   "source": [
    "But there's a better way to read in a file based on lines.  There are many ways to read in files and well worth some investigation time.  However, `readlines()` is a very common method for reading in individual lines of a file."
   ]
  },
  {
   "cell_type": "code",
   "execution_count": 85,
   "metadata": {
    "collapsed": true
   },
   "outputs": [],
   "source": [
    "f = open(filename_relative, 'rU')\n",
    "\n",
    "data = f.readlines()"
   ]
  },
  {
   "cell_type": "markdown",
   "metadata": {},
   "source": [
    "Let's take a moment here to comment on the notation system happening.  We can see that f is becoming our open file object.  This object is waiting to be read.  We can then pick whichever reading method we want to perform on it, and then do so via `f.methodname()`.  These methods are functions that we are calling on the objects. "
   ]
  },
  {
   "cell_type": "code",
   "execution_count": 86,
   "metadata": {
    "collapsed": false
   },
   "outputs": [
    {
     "name": "stdout",
     "output_type": "stream",
     "text": [
      "Rank,Urban area,type,Population,Land area,Smallest gap\n",
      "\n",
      "1,\"Chicago-Aurora-Elgin-Joliet-Waukegan, IL-IN\",UA,\"8,307,904\",\"5,498.10\",n/a\n",
      "\n",
      "2,\"Round Lake Beach-McHenry-Grayslake, IL-WI\",UA,\"226,848\",344.9,2\n",
      "\n",
      "3,\"Kenosha, WI\",UA,\"110,942\",109.2,1\n",
      "\n",
      "4,\"Michigan City-LaPorte, IN-MI\",UA,\"66,199\",86.1,3\n",
      "\n",
      "5,\"Kankakee-Bradley-Bourbonnais, IL\",UA,\"65,073\",71.5,>10\n",
      "\n",
      "6,\"DeKalb-Sycamore, IL\",UA,\"55,805\",46.3,>10\n",
      "\n",
      "7,\"Woodstock, IL\",UC,\"20,219\",21.1,4\n",
      "\n",
      "8,\"Morris, IL\",UC,\"13,927\",19.3,>10\n",
      "\n",
      "9,\"Sandwich, IL\",UC,\"12,248\",23.9,>10\n",
      "\n",
      "10,\"Braidwood-Coal City, IL\",UC,\"11,607\",19.5,>10\n",
      "\n",
      "11,\"Harvard, IL\",UC,\"8,575\",13.3,>10\n",
      "\n",
      "12,\"Lakes of the Four Seasons, IN\",UC,\"8,450\",12.5,4\n",
      "\n",
      "13,\"Lowell, IN\",UC,\"7,914\",15.8,>10\n",
      "\n",
      "14,\"Wilmington, IL\",UC,\"7,107\",20.8,>10\n",
      "\n",
      "15,\"Manteno, IL\",UC,\"7,106\",9.4,>10\n",
      "\n",
      "16,\"Marengo, IL\",UC,\"6,854\",8.6,>10\n",
      "\n",
      "17,\"Rensselaer, IN\",UC,\"6,096\",10.9,>10\n",
      "\n",
      "18,\"Plano, IL\",UC,\"5,911\",6.5,3\n",
      "\n",
      "19,\"Genoa, IL\",UC,\"5,137\",5.5,>10\n",
      "\n",
      "20,\"Genoa City, WI-IL\",UC,\"5,126\",12.5,>10\n",
      "\n",
      "21,\"Westville, IN\",UC,\"5,077\",4.4,>10\n",
      "\n",
      "22,\"Hebron, IN\",UC,\"4,150\",11.7,>10\n",
      "\n",
      "23,\"Momence, IL\",UC,\"3,711\",9.7,>10\n",
      "\n",
      "24,\"Peotone, IL\",UC,\"3,358\",3.5,9\n",
      "\n",
      "25,\"Wonder Lake, IL\",UC,\"2,798\",2,5\n",
      "\n",
      "26,\"Monee, IL\",UC,\"2,787\",3.7,3\n",
      "\n",
      "27,\"Union Township, Porter County, IN\",UC,\"2,593\",4.9,1\n",
      "\n",
      "28,\"Hampshire, IL\",UC,\"2,591\",2,6\n"
     ]
    }
   ],
   "source": [
    "for e in data:\n",
    "    print e"
   ]
  },
  {
   "cell_type": "markdown",
   "metadata": {},
   "source": [
    "Check out those extra blank lines.  This can be an artifact from coming in from Excel.  When you see this, use `strip()` to clean things up.  This function cleans off any white space characters from both the left and the right of a line of text.  There are also `rstrip()` and `lstrip()` in case those would be useful."
   ]
  },
  {
   "cell_type": "code",
   "execution_count": 73,
   "metadata": {
    "collapsed": false
   },
   "outputs": [
    {
     "name": "stdout",
     "output_type": "stream",
     "text": [
      "Rank,Urban area,type,Population,Land area,Smallest gap\n",
      "1,\"Chicago-Aurora-Elgin-Joliet-Waukegan, IL-IN\",UA,\"8,307,904\",\"5,498.10\",n/a\n",
      "2,\"Round Lake Beach-McHenry-Grayslake, IL-WI\",UA,\"226,848\",344.9,2\n",
      "3,\"Kenosha, WI\",UA,\"110,942\",109.2,1\n",
      "4,\"Michigan City-LaPorte, IN-MI\",UA,\"66,199\",86.1,3\n",
      "5,\"Kankakee-Bradley-Bourbonnais, IL\",UA,\"65,073\",71.5,>10\n",
      "6,\"DeKalb-Sycamore, IL\",UA,\"55,805\",46.3,>10\n",
      "7,\"Woodstock, IL\",UC,\"20,219\",21.1,4\n",
      "8,\"Morris, IL\",UC,\"13,927\",19.3,>10\n",
      "9,\"Sandwich, IL\",UC,\"12,248\",23.9,>10\n",
      "10,\"Braidwood-Coal City, IL\",UC,\"11,607\",19.5,>10\n",
      "11,\"Harvard, IL\",UC,\"8,575\",13.3,>10\n",
      "12,\"Lakes of the Four Seasons, IN\",UC,\"8,450\",12.5,4\n",
      "13,\"Lowell, IN\",UC,\"7,914\",15.8,>10\n",
      "14,\"Wilmington, IL\",UC,\"7,107\",20.8,>10\n",
      "15,\"Manteno, IL\",UC,\"7,106\",9.4,>10\n",
      "16,\"Marengo, IL\",UC,\"6,854\",8.6,>10\n",
      "17,\"Rensselaer, IN\",UC,\"6,096\",10.9,>10\n",
      "18,\"Plano, IL\",UC,\"5,911\",6.5,3\n",
      "19,\"Genoa, IL\",UC,\"5,137\",5.5,>10\n",
      "20,\"Genoa City, WI-IL\",UC,\"5,126\",12.5,>10\n",
      "21,\"Westville, IN\",UC,\"5,077\",4.4,>10\n",
      "22,\"Hebron, IN\",UC,\"4,150\",11.7,>10\n",
      "23,\"Momence, IL\",UC,\"3,711\",9.7,>10\n",
      "24,\"Peotone, IL\",UC,\"3,358\",3.5,9\n",
      "25,\"Wonder Lake, IL\",UC,\"2,798\",2,5\n",
      "26,\"Monee, IL\",UC,\"2,787\",3.7,3\n",
      "27,\"Union Township, Porter County, IN\",UC,\"2,593\",4.9,1\n",
      "28,\"Hampshire, IL\",UC,\"2,591\",2,6\n"
     ]
    }
   ],
   "source": [
    "for e in data:\n",
    "    print e.strip()"
   ]
  },
  {
   "cell_type": "markdown",
   "metadata": {},
   "source": [
    "## Opening and reading a CSV file"
   ]
  },
  {
   "cell_type": "markdown",
   "metadata": {},
   "source": [
    "When we're opening a CSV file, we should import the CSV module.  This brings in the CSV helper functions.  These modules know what a CSV is, how text should be sanitized, etc.  You *can* do this yourself.........but you don't want to.  Just use the CSV module.\n",
    "\n",
    "Do you have data with lots of unicode text and in Python 2?  Install the `unicodecsv` package from pypi: https://pypi.python.org/pypi/unicodecsv.\n",
    "\n",
    "`pip install unicodecsv`"
   ]
  },
  {
   "cell_type": "code",
   "execution_count": 3,
   "metadata": {
    "collapsed": true
   },
   "outputs": [],
   "source": [
    "import csv"
   ]
  },
  {
   "cell_type": "markdown",
   "metadata": {},
   "source": [
    "We can now call the csv module functions by appending them to `csv`.\n",
    "\n",
    "The two core functions you'll use are:\n",
    "* `csv.reader(file object)` to create a reading object\n",
    "* `csv.writer(file object` to create a writing object.\n",
    "\n",
    "When we write files we use these two functions:\n",
    "\n",
    "* `writerow(row)` to write a single row\n",
    "* `writerows(list of lists)` to write many rows"
   ]
  },
  {
   "cell_type": "markdown",
   "metadata": {},
   "source": [
    "Below are some basic formulas for reading in data.  Many of these formulas came from chapter 6 of the [Python Cookbook (third edition)](http://chimera.labs.oreilly.com/books/1230000000393).  Not all of this syntax will make sense, but just treat it as a formula for now.  Things will make more sense as you learn more about Python.\n",
    "\n",
    "You can read the chapter for free here:  http://chimera.labs.oreilly.com/books/1230000000393/ch06.html"
   ]
  },
  {
   "cell_type": "code",
   "execution_count": 5,
   "metadata": {
    "collapsed": false
   },
   "outputs": [],
   "source": [
    "with open('chicacoCSA.csv', 'rU') as file_in:\n",
    "    file_in = csv.reader(file_in)\n",
    "    headers = next(file_in)\n",
    "    data = []\n",
    "    for line in file_in:\n",
    "        data.append(line)"
   ]
  },
  {
   "cell_type": "code",
   "execution_count": 6,
   "metadata": {
    "collapsed": false
   },
   "outputs": [
    {
     "name": "stdout",
     "output_type": "stream",
     "text": [
      "['1', 'Chicago-Aurora-Elgin-Joliet-Waukegan, IL-IN', 'UA', '8,307,904', '5,498.10', 'n/a']\n",
      "['2', 'Round Lake Beach-McHenry-Grayslake, IL-WI', 'UA', '226,848', '344.9', '2']\n",
      "['3', 'Kenosha, WI', 'UA', '110,942', '109.2', '1']\n",
      "['4', 'Michigan City-LaPorte, IN-MI', 'UA', '66,199', '86.1', '3']\n",
      "['5', 'Kankakee-Bradley-Bourbonnais, IL', 'UA', '65,073', '71.5', '>10']\n",
      "['6', 'DeKalb-Sycamore, IL', 'UA', '55,805', '46.3', '>10']\n",
      "['7', 'Woodstock, IL', 'UC', '20,219', '21.1', '4']\n",
      "['8', 'Morris, IL', 'UC', '13,927', '19.3', '>10']\n",
      "['9', 'Sandwich, IL', 'UC', '12,248', '23.9', '>10']\n",
      "['10', 'Braidwood-Coal City, IL', 'UC', '11,607', '19.5', '>10']\n",
      "['11', 'Harvard, IL', 'UC', '8,575', '13.3', '>10']\n",
      "['12', 'Lakes of the Four Seasons, IN', 'UC', '8,450', '12.5', '4']\n",
      "['13', 'Lowell, IN', 'UC', '7,914', '15.8', '>10']\n",
      "['14', 'Wilmington, IL', 'UC', '7,107', '20.8', '>10']\n",
      "['15', 'Manteno, IL', 'UC', '7,106', '9.4', '>10']\n",
      "['16', 'Marengo, IL', 'UC', '6,854', '8.6', '>10']\n",
      "['17', 'Rensselaer, IN', 'UC', '6,096', '10.9', '>10']\n",
      "['18', 'Plano, IL', 'UC', '5,911', '6.5', '3']\n",
      "['19', 'Genoa, IL', 'UC', '5,137', '5.5', '>10']\n",
      "['20', 'Genoa City, WI-IL', 'UC', '5,126', '12.5', '>10']\n",
      "['21', 'Westville, IN', 'UC', '5,077', '4.4', '>10']\n",
      "['22', 'Hebron, IN', 'UC', '4,150', '11.7', '>10']\n",
      "['23', 'Momence, IL', 'UC', '3,711', '9.7', '>10']\n",
      "['24', 'Peotone, IL', 'UC', '3,358', '3.5', '9']\n",
      "['25', 'Wonder Lake, IL', 'UC', '2,798', '2', '5']\n",
      "['26', 'Monee, IL', 'UC', '2,787', '3.7', '3']\n",
      "['27', 'Union Township, Porter County, IN', 'UC', '2,593', '4.9', '1']\n",
      "['28', 'Hampshire, IL', 'UC', '2,591', '2', '6']\n"
     ]
    }
   ],
   "source": [
    "for l in data:\n",
    "    print l"
   ]
  },
  {
   "cell_type": "markdown",
   "metadata": {
    "collapsed": true
   },
   "source": [
    "Now this looks like something we can start dealing with.  Each row is coming in as a list, with each cell value as an element within that Nth corresponding position.  Let's do some quick sanity checking."
   ]
  },
  {
   "cell_type": "code",
   "execution_count": 7,
   "metadata": {
    "collapsed": false
   },
   "outputs": [
    {
     "name": "stdout",
     "output_type": "stream",
     "text": [
      "6\n",
      "6\n",
      "6\n",
      "6\n",
      "6\n",
      "6\n",
      "6\n",
      "6\n",
      "6\n",
      "6\n",
      "6\n",
      "6\n",
      "6\n",
      "6\n",
      "6\n",
      "6\n",
      "6\n",
      "6\n",
      "6\n",
      "6\n",
      "6\n",
      "6\n",
      "6\n",
      "6\n",
      "6\n",
      "6\n",
      "6\n",
      "6\n"
     ]
    }
   ],
   "source": [
    "# is each row the same length...\n",
    "\n",
    "for row in data:\n",
    "    print len(row)"
   ]
  },
  {
   "cell_type": "code",
   "execution_count": 9,
   "metadata": {
    "collapsed": false
   },
   "outputs": [
    {
     "name": "stdout",
     "output_type": "stream",
     "text": [
      "Chicago-Aurora-Elgin-Joliet-Waukegan, IL-IN\n",
      "Round Lake Beach-McHenry-Grayslake, IL-WI\n",
      "Kenosha, WI\n",
      "Michigan City-LaPorte, IN-MI\n",
      "Kankakee-Bradley-Bourbonnais, IL\n",
      "DeKalb-Sycamore, IL\n",
      "Woodstock, IL\n",
      "Morris, IL\n",
      "Sandwich, IL\n",
      "Braidwood-Coal City, IL\n",
      "Harvard, IL\n",
      "Lakes of the Four Seasons, IN\n",
      "Lowell, IN\n",
      "Wilmington, IL\n",
      "Manteno, IL\n",
      "Marengo, IL\n",
      "Rensselaer, IN\n",
      "Plano, IL\n",
      "Genoa, IL\n",
      "Genoa City, WI-IL\n",
      "Westville, IN\n",
      "Hebron, IN\n",
      "Momence, IL\n",
      "Peotone, IL\n",
      "Wonder Lake, IL\n",
      "Monee, IL\n",
      "Union Township, Porter County, IN\n",
      "Hampshire, IL\n"
     ]
    }
   ],
   "source": [
    "# Looks good!  Now, we can loop through and get all the city names...\n",
    "\n",
    "for row in data:\n",
    "    print row[1]"
   ]
  },
  {
   "cell_type": "markdown",
   "metadata": {},
   "source": [
    "Again, there are many ways to get at the data from a CSV file.  Take some time to experiment with a few other techniques.  You'll find your comfort zone.  What I've shown here is one of the simplest possible mechanisms.  There are more advanced methods for more complex data."
   ]
  },
  {
   "cell_type": "markdown",
   "metadata": {},
   "source": [
    "## Switching gears..."
   ]
  },
  {
   "cell_type": "markdown",
   "metadata": {},
   "source": [
    "At this point we've looked at how to work with lists and read in a CSV into a list of lists.  This means that we can get into a CSV file and access data columns within it.  Let's take another file with free text city names.  Let's work on writing a script that will loop through all the city names, lookup the coordinates for those places, and then output the results into a new file.\n",
    "\n",
    "We can make a rough outline of our program...\n",
    "\n",
    "* Read in the file\n",
    "* Get to the city names\n",
    "* Run those city names through our Open Street Map tool\n",
    "* Save those values\n",
    "* Output a new file\n",
    "\n",
    "We already know how to do the first two tasks:  open the file and get to the city names.  What we need to work on next is a way to run those values through the Open Street Map nominatim tool."
   ]
  },
  {
   "cell_type": "markdown",
   "metadata": {},
   "source": [
    "# Playing with `nominatim`"
   ]
  },
  {
   "cell_type": "markdown",
   "metadata": {},
   "source": [
    "Before we can plug this tool into a script we need to take some time getting to know how it works.  The best place to start is to replicate what's in the documentation: https://github.com/damianbraun/nominatim"
   ]
  },
  {
   "cell_type": "code",
   "execution_count": 1,
   "metadata": {
    "collapsed": false
   },
   "outputs": [],
   "source": [
    "from IPython.display import HTML"
   ]
  },
  {
   "cell_type": "code",
   "execution_count": 2,
   "metadata": {
    "collapsed": false
   },
   "outputs": [
    {
     "data": {
      "text/html": [
       "\n",
       "\n",
       "\n",
       "<!DOCTYPE html>\n",
       "<html lang=\"en\" class=\"\">\n",
       "  <head prefix=\"og: http://ogp.me/ns# fb: http://ogp.me/ns/fb# object: http://ogp.me/ns/object# article: http://ogp.me/ns/article# profile: http://ogp.me/ns/profile#\">\n",
       "    <meta charset='utf-8'>\n",
       "    <meta http-equiv=\"X-UA-Compatible\" content=\"IE=edge\">\n",
       "    <meta http-equiv=\"Content-Language\" content=\"en\">\n",
       "    <meta name=\"viewport\" content=\"width=1020\">\n",
       "    \n",
       "    \n",
       "    <title>nominatim/README.md at master · damianbraun/nominatim · GitHub</title>\n",
       "    <link rel=\"search\" type=\"application/opensearchdescription+xml\" href=\"/opensearch.xml\" title=\"GitHub\">\n",
       "    <link rel=\"fluid-icon\" href=\"https://github.com/fluidicon.png\" title=\"GitHub\">\n",
       "    <link rel=\"apple-touch-icon\" sizes=\"57x57\" href=\"/apple-touch-icon-114.png\">\n",
       "    <link rel=\"apple-touch-icon\" sizes=\"114x114\" href=\"/apple-touch-icon-114.png\">\n",
       "    <link rel=\"apple-touch-icon\" sizes=\"72x72\" href=\"/apple-touch-icon-144.png\">\n",
       "    <link rel=\"apple-touch-icon\" sizes=\"144x144\" href=\"/apple-touch-icon-144.png\">\n",
       "    <meta property=\"fb:app_id\" content=\"1401488693436528\">\n",
       "\n",
       "      <meta content=\"@github\" name=\"twitter:site\" /><meta content=\"summary\" name=\"twitter:card\" /><meta content=\"damianbraun/nominatim\" name=\"twitter:title\" /><meta content=\"nominatim - OSM Nominatim API module\" name=\"twitter:description\" /><meta content=\"https://avatars3.githubusercontent.com/u/2086167?v=3&amp;s=400\" name=\"twitter:image:src\" />\n",
       "      <meta content=\"GitHub\" property=\"og:site_name\" /><meta content=\"object\" property=\"og:type\" /><meta content=\"https://avatars3.githubusercontent.com/u/2086167?v=3&amp;s=400\" property=\"og:image\" /><meta content=\"damianbraun/nominatim\" property=\"og:title\" /><meta content=\"https://github.com/damianbraun/nominatim\" property=\"og:url\" /><meta content=\"nominatim - OSM Nominatim API module\" property=\"og:description\" />\n",
       "      <meta name=\"browser-stats-url\" content=\"https://api.github.com/_private/browser/stats\">\n",
       "    <meta name=\"browser-errors-url\" content=\"https://api.github.com/_private/browser/errors\">\n",
       "    <link rel=\"assets\" href=\"https://assets-cdn.github.com/\">\n",
       "    \n",
       "    <meta name=\"pjax-timeout\" content=\"1000\">\n",
       "    \n",
       "\n",
       "    <meta name=\"msapplication-TileImage\" content=\"/windows-tile.png\">\n",
       "    <meta name=\"msapplication-TileColor\" content=\"#ffffff\">\n",
       "    <meta name=\"selected-link\" value=\"repo_source\" data-pjax-transient>\n",
       "\n",
       "    <meta name=\"google-site-verification\" content=\"KT5gs8h0wvaagLKAVWq8bbeNwnZZK1r1XQysX3xurLU\">\n",
       "        <meta name=\"google-analytics\" content=\"UA-3769691-2\">\n",
       "\n",
       "    <meta content=\"collector.githubapp.com\" name=\"octolytics-host\" /><meta content=\"collector-cdn.github.com\" name=\"octolytics-script-host\" /><meta content=\"github\" name=\"octolytics-app-id\" /><meta content=\"827EFFDA:0699:DB6BD9:55E5C17F\" name=\"octolytics-dimension-request_id\" />\n",
       "    \n",
       "    <meta content=\"Rails, view, blob#show\" data-pjax-transient=\"true\" name=\"analytics-event\" />\n",
       "    <meta class=\"js-ga-set\" name=\"dimension1\" content=\"Logged Out\">\n",
       "      <meta class=\"js-ga-set\" name=\"dimension4\" content=\"Current repo nav\">\n",
       "    <meta name=\"is-dotcom\" content=\"true\">\n",
       "        <meta name=\"hostname\" content=\"github.com\">\n",
       "    <meta name=\"user-login\" content=\"\">\n",
       "\n",
       "      <link rel=\"icon\" sizes=\"any\" mask href=\"https://assets-cdn.github.com/pinned-octocat.svg\">\n",
       "      <meta name=\"theme-color\" content=\"#4078c0\">\n",
       "      <link rel=\"icon\" type=\"image/x-icon\" href=\"https://assets-cdn.github.com/favicon.ico\">\n",
       "\n",
       "    <!-- </textarea> --><!-- '\"` --><meta content=\"authenticity_token\" name=\"csrf-param\" />\n",
       "<meta content=\"r2axUHS+iuGG0d61YZtl2AhcaVUypu8WuISi0Alo9dsXHrlyk64WWl/NrSq5mX0GOysyuQaluTUfQTN0r1Rj2Q==\" name=\"csrf-token\" />\n",
       "    \n",
       "\n",
       "    <link crossorigin=\"anonymous\" href=\"https://assets-cdn.github.com/assets/github-8033740a62953273e0af57a9f7f0b372d60ab1b6e54cd4956c336c0f747a0432.css\" media=\"all\" rel=\"stylesheet\" />\n",
       "    <link crossorigin=\"anonymous\" href=\"https://assets-cdn.github.com/assets/github2-f20fa2d1dc1467ff8e2f823d0c693c4aba5668d5b740a4c567afc32f85422020.css\" media=\"all\" rel=\"stylesheet\" />\n",
       "    \n",
       "    \n",
       "\n",
       "\n",
       "    <meta http-equiv=\"x-pjax-version\" content=\"e60d1c4a753e28ce6805b484325c1a6d\">\n",
       "\n",
       "      \n",
       "  <meta name=\"description\" content=\"nominatim - OSM Nominatim API module\">\n",
       "  <meta name=\"go-import\" content=\"github.com/damianbraun/nominatim git https://github.com/damianbraun/nominatim.git\">\n",
       "\n",
       "  <meta content=\"2086167\" name=\"octolytics-dimension-user_id\" /><meta content=\"damianbraun\" name=\"octolytics-dimension-user_login\" /><meta content=\"20448342\" name=\"octolytics-dimension-repository_id\" /><meta content=\"damianbraun/nominatim\" name=\"octolytics-dimension-repository_nwo\" /><meta content=\"true\" name=\"octolytics-dimension-repository_public\" /><meta content=\"false\" name=\"octolytics-dimension-repository_is_fork\" /><meta content=\"20448342\" name=\"octolytics-dimension-repository_network_root_id\" /><meta content=\"damianbraun/nominatim\" name=\"octolytics-dimension-repository_network_root_nwo\" />\n",
       "  <link href=\"https://github.com/damianbraun/nominatim/commits/master.atom\" rel=\"alternate\" title=\"Recent Commits to nominatim:master\" type=\"application/atom+xml\">\n",
       "\n",
       "  </head>\n",
       "\n",
       "\n",
       "  <body class=\"logged_out  env-production  vis-public page-blob\">\n",
       "    <a href=\"#start-of-content\" tabindex=\"1\" class=\"accessibility-aid js-skip-to-content\">Skip to content</a>\n",
       "    <div class=\"wrapper\">\n",
       "      \n",
       "      \n",
       "      \n",
       "\n",
       "\n",
       "\n",
       "        \n",
       "        <div class=\"header header-logged-out\" role=\"banner\">\n",
       "  <div class=\"container clearfix\">\n",
       "\n",
       "    <a class=\"header-logo-wordmark\" href=\"https://github.com/\" data-ga-click=\"(Logged out) Header, go to homepage, icon:logo-wordmark\">\n",
       "      <span class=\"mega-octicon octicon-logo-github\"></span>\n",
       "    </a>\n",
       "\n",
       "    <div class=\"header-actions\" role=\"navigation\">\n",
       "        <a class=\"btn btn-primary\" href=\"/join\" data-ga-click=\"(Logged out) Header, clicked Sign up, text:sign-up\">Sign up</a>\n",
       "      <a class=\"btn\" href=\"/login?return_to=%2Fdamianbraun%2Fnominatim%2Fblob%2Fmaster%2FREADME.md\" data-ga-click=\"(Logged out) Header, clicked Sign in, text:sign-in\">Sign in</a>\n",
       "    </div>\n",
       "\n",
       "    <div class=\"site-search repo-scope js-site-search\" role=\"search\">\n",
       "      <!-- </textarea> --><!-- '\"` --><form accept-charset=\"UTF-8\" action=\"/damianbraun/nominatim/search\" class=\"js-site-search-form\" data-global-search-url=\"/search\" data-repo-search-url=\"/damianbraun/nominatim/search\" method=\"get\"><div style=\"margin:0;padding:0;display:inline\"><input name=\"utf8\" type=\"hidden\" value=\"&#x2713;\" /></div>\n",
       "  <label class=\"js-chromeless-input-container form-control\">\n",
       "    <div class=\"scope-badge\">This repository</div>\n",
       "    <input type=\"text\"\n",
       "      class=\"js-site-search-focus js-site-search-field is-clearable chromeless-input\"\n",
       "      data-hotkey=\"s\"\n",
       "      name=\"q\"\n",
       "      placeholder=\"Search\"\n",
       "      aria-label=\"Search this repository\"\n",
       "      data-global-scope-placeholder=\"Search GitHub\"\n",
       "      data-repo-scope-placeholder=\"Search\"\n",
       "      tabindex=\"1\"\n",
       "      autocapitalize=\"off\">\n",
       "  </label>\n",
       "</form>\n",
       "    </div>\n",
       "\n",
       "      <ul class=\"header-nav left\" role=\"navigation\">\n",
       "          <li class=\"header-nav-item\">\n",
       "            <a class=\"header-nav-link\" href=\"/explore\" data-ga-click=\"(Logged out) Header, go to explore, text:explore\">Explore</a>\n",
       "          </li>\n",
       "          <li class=\"header-nav-item\">\n",
       "            <a class=\"header-nav-link\" href=\"/features\" data-ga-click=\"(Logged out) Header, go to features, text:features\">Features</a>\n",
       "          </li>\n",
       "          <li class=\"header-nav-item\">\n",
       "            <a class=\"header-nav-link\" href=\"https://enterprise.github.com/\" data-ga-click=\"(Logged out) Header, go to enterprise, text:enterprise\">Enterprise</a>\n",
       "          </li>\n",
       "          <li class=\"header-nav-item\">\n",
       "            <a class=\"header-nav-link\" href=\"/pricing\" data-ga-click=\"(Logged out) Header, go to pricing, text:pricing\">Pricing</a>\n",
       "          </li>\n",
       "      </ul>\n",
       "\n",
       "  </div>\n",
       "</div>\n",
       "\n",
       "\n",
       "\n",
       "      <div id=\"start-of-content\" class=\"accessibility-aid\"></div>\n",
       "\n",
       "      <div id=\"js-flash-container\">\n",
       "</div>\n",
       "\n",
       "\n",
       "          <div itemscope itemtype=\"http://schema.org/WebPage\">\n",
       "    <div class=\"pagehead repohead instapaper_ignore readability-menu\">\n",
       "      <div class=\"container\">\n",
       "\n",
       "        <div class=\"clearfix\">\n",
       "          \n",
       "<ul class=\"pagehead-actions\">\n",
       "\n",
       "  <li>\n",
       "      <a href=\"/login?return_to=%2Fdamianbraun%2Fnominatim\"\n",
       "    class=\"btn btn-sm btn-with-count tooltipped tooltipped-n\"\n",
       "    aria-label=\"You must be signed in to watch a repository\" rel=\"nofollow\">\n",
       "    <span class=\"octicon octicon-eye\"></span>\n",
       "    Watch\n",
       "  </a>\n",
       "  <a class=\"social-count\" href=\"/damianbraun/nominatim/watchers\">\n",
       "    4\n",
       "  </a>\n",
       "\n",
       "  </li>\n",
       "\n",
       "  <li>\n",
       "      <a href=\"/login?return_to=%2Fdamianbraun%2Fnominatim\"\n",
       "    class=\"btn btn-sm btn-with-count tooltipped tooltipped-n\"\n",
       "    aria-label=\"You must be signed in to star a repository\" rel=\"nofollow\">\n",
       "    <span class=\"octicon octicon-star\"></span>\n",
       "    Star\n",
       "  </a>\n",
       "\n",
       "    <a class=\"social-count js-social-count\" href=\"/damianbraun/nominatim/stargazers\">\n",
       "      5\n",
       "    </a>\n",
       "\n",
       "  </li>\n",
       "\n",
       "    <li>\n",
       "      <a href=\"/login?return_to=%2Fdamianbraun%2Fnominatim\"\n",
       "        class=\"btn btn-sm btn-with-count tooltipped tooltipped-n\"\n",
       "        aria-label=\"You must be signed in to fork a repository\" rel=\"nofollow\">\n",
       "        <span class=\"octicon octicon-repo-forked\"></span>\n",
       "        Fork\n",
       "      </a>\n",
       "      <a href=\"/damianbraun/nominatim/network\" class=\"social-count\">\n",
       "        4\n",
       "      </a>\n",
       "    </li>\n",
       "</ul>\n",
       "\n",
       "          <h1 itemscope itemtype=\"http://data-vocabulary.org/Breadcrumb\" class=\"entry-title public \">\n",
       "  <span class=\"mega-octicon octicon-repo\"></span>\n",
       "  <span class=\"author\"><a href=\"/damianbraun\" class=\"url fn\" itemprop=\"url\" rel=\"author\"><span itemprop=\"title\">damianbraun</span></a></span><!--\n",
       "--><span class=\"path-divider\">/</span><!--\n",
       "--><strong><a href=\"/damianbraun/nominatim\" data-pjax=\"#js-repo-pjax-container\">nominatim</a></strong>\n",
       "\n",
       "  <span class=\"page-context-loader\">\n",
       "    <img alt=\"\" height=\"16\" src=\"https://assets-cdn.github.com/images/spinners/octocat-spinner-32.gif\" width=\"16\" />\n",
       "  </span>\n",
       "\n",
       "</h1>\n",
       "\n",
       "        </div>\n",
       "      </div>\n",
       "    </div>\n",
       "\n",
       "    <div class=\"container\">\n",
       "      <div class=\"repository-with-sidebar repo-container new-discussion-timeline \">\n",
       "        <div class=\"repository-sidebar clearfix\">\n",
       "          \n",
       "<nav class=\"sunken-menu repo-nav js-repo-nav js-sidenav-container-pjax js-octicon-loaders\"\n",
       "     role=\"navigation\"\n",
       "     data-pjax=\"#js-repo-pjax-container\"\n",
       "     data-issue-count-url=\"/damianbraun/nominatim/issues/counts\">\n",
       "  <ul class=\"sunken-menu-group\">\n",
       "    <li class=\"tooltipped tooltipped-w\" aria-label=\"Code\">\n",
       "      <a href=\"/damianbraun/nominatim\" aria-label=\"Code\" aria-selected=\"true\" class=\"js-selected-navigation-item selected sunken-menu-item\" data-hotkey=\"g c\" data-selected-links=\"repo_source repo_downloads repo_commits repo_releases repo_tags repo_branches /damianbraun/nominatim\">\n",
       "        <span class=\"octicon octicon-code\"></span> <span class=\"full-word\">Code</span>\n",
       "        <img alt=\"\" class=\"mini-loader\" height=\"16\" src=\"https://assets-cdn.github.com/images/spinners/octocat-spinner-32.gif\" width=\"16\" />\n",
       "</a>    </li>\n",
       "\n",
       "      <li class=\"tooltipped tooltipped-w\" aria-label=\"Issues\">\n",
       "        <a href=\"/damianbraun/nominatim/issues\" aria-label=\"Issues\" class=\"js-selected-navigation-item sunken-menu-item\" data-hotkey=\"g i\" data-selected-links=\"repo_issues repo_labels repo_milestones /damianbraun/nominatim/issues\">\n",
       "          <span class=\"octicon octicon-issue-opened\"></span> <span class=\"full-word\">Issues</span>\n",
       "          <span class=\"js-issue-replace-counter\"></span>\n",
       "          <img alt=\"\" class=\"mini-loader\" height=\"16\" src=\"https://assets-cdn.github.com/images/spinners/octocat-spinner-32.gif\" width=\"16\" />\n",
       "</a>      </li>\n",
       "\n",
       "    <li class=\"tooltipped tooltipped-w\" aria-label=\"Pull requests\">\n",
       "      <a href=\"/damianbraun/nominatim/pulls\" aria-label=\"Pull requests\" class=\"js-selected-navigation-item sunken-menu-item\" data-hotkey=\"g p\" data-selected-links=\"repo_pulls /damianbraun/nominatim/pulls\">\n",
       "          <span class=\"octicon octicon-git-pull-request\"></span> <span class=\"full-word\">Pull requests</span>\n",
       "          <span class=\"js-pull-replace-counter\"></span>\n",
       "          <img alt=\"\" class=\"mini-loader\" height=\"16\" src=\"https://assets-cdn.github.com/images/spinners/octocat-spinner-32.gif\" width=\"16\" />\n",
       "</a>    </li>\n",
       "\n",
       "  </ul>\n",
       "  <div class=\"sunken-menu-separator\"></div>\n",
       "  <ul class=\"sunken-menu-group\">\n",
       "\n",
       "    <li class=\"tooltipped tooltipped-w\" aria-label=\"Pulse\">\n",
       "      <a href=\"/damianbraun/nominatim/pulse\" aria-label=\"Pulse\" class=\"js-selected-navigation-item sunken-menu-item\" data-selected-links=\"pulse /damianbraun/nominatim/pulse\">\n",
       "        <span class=\"octicon octicon-pulse\"></span> <span class=\"full-word\">Pulse</span>\n",
       "        <img alt=\"\" class=\"mini-loader\" height=\"16\" src=\"https://assets-cdn.github.com/images/spinners/octocat-spinner-32.gif\" width=\"16\" />\n",
       "</a>    </li>\n",
       "\n",
       "    <li class=\"tooltipped tooltipped-w\" aria-label=\"Graphs\">\n",
       "      <a href=\"/damianbraun/nominatim/graphs\" aria-label=\"Graphs\" class=\"js-selected-navigation-item sunken-menu-item\" data-selected-links=\"repo_graphs repo_contributors /damianbraun/nominatim/graphs\">\n",
       "        <span class=\"octicon octicon-graph\"></span> <span class=\"full-word\">Graphs</span>\n",
       "        <img alt=\"\" class=\"mini-loader\" height=\"16\" src=\"https://assets-cdn.github.com/images/spinners/octocat-spinner-32.gif\" width=\"16\" />\n",
       "</a>    </li>\n",
       "  </ul>\n",
       "\n",
       "\n",
       "</nav>\n",
       "\n",
       "            <div class=\"only-with-full-nav\">\n",
       "                \n",
       "<div class=\"js-clone-url clone-url open\"\n",
       "  data-protocol-type=\"http\">\n",
       "  <h3><span class=\"text-emphasized\">HTTPS</span> clone URL</h3>\n",
       "  <div class=\"input-group js-zeroclipboard-container\">\n",
       "    <input type=\"text\" class=\"input-mini input-monospace js-url-field js-zeroclipboard-target\"\n",
       "           value=\"https://github.com/damianbraun/nominatim.git\" readonly=\"readonly\" aria-label=\"HTTPS clone URL\">\n",
       "    <span class=\"input-group-button\">\n",
       "      <button aria-label=\"Copy to clipboard\" class=\"js-zeroclipboard btn btn-sm zeroclipboard-button tooltipped tooltipped-s\" data-copied-hint=\"Copied!\" type=\"button\"><span class=\"octicon octicon-clippy\"></span></button>\n",
       "    </span>\n",
       "  </div>\n",
       "</div>\n",
       "\n",
       "  \n",
       "<div class=\"js-clone-url clone-url \"\n",
       "  data-protocol-type=\"subversion\">\n",
       "  <h3><span class=\"text-emphasized\">Subversion</span> checkout URL</h3>\n",
       "  <div class=\"input-group js-zeroclipboard-container\">\n",
       "    <input type=\"text\" class=\"input-mini input-monospace js-url-field js-zeroclipboard-target\"\n",
       "           value=\"https://github.com/damianbraun/nominatim\" readonly=\"readonly\" aria-label=\"Subversion checkout URL\">\n",
       "    <span class=\"input-group-button\">\n",
       "      <button aria-label=\"Copy to clipboard\" class=\"js-zeroclipboard btn btn-sm zeroclipboard-button tooltipped tooltipped-s\" data-copied-hint=\"Copied!\" type=\"button\"><span class=\"octicon octicon-clippy\"></span></button>\n",
       "    </span>\n",
       "  </div>\n",
       "</div>\n",
       "\n",
       "\n",
       "\n",
       "  <div class=\"clone-options\">You can clone with\n",
       "    <!-- </textarea> --><!-- '\"` --><form accept-charset=\"UTF-8\" action=\"/users/set_protocol?protocol_selector=http&amp;protocol_type=clone\" class=\"inline-form js-clone-selector-form \" data-form-nonce=\"a63b320006fe0bb63a58aa2c2f70dee634c4de91\" data-remote=\"true\" method=\"post\"><div style=\"margin:0;padding:0;display:inline\"><input name=\"utf8\" type=\"hidden\" value=\"&#x2713;\" /><input name=\"authenticity_token\" type=\"hidden\" value=\"AF6/kYyuI+sEVoXMYnLBqhqmswrhtYL+SOIRQJqhAKaJ81I2vgxfdUOob6ukI9vqLfePskqrqPuiOpkIyel9hw==\" /></div><button class=\"btn-link js-clone-selector\" data-protocol=\"http\" type=\"submit\">HTTPS</button></form> or <!-- </textarea> --><!-- '\"` --><form accept-charset=\"UTF-8\" action=\"/users/set_protocol?protocol_selector=subversion&amp;protocol_type=clone\" class=\"inline-form js-clone-selector-form \" data-form-nonce=\"a63b320006fe0bb63a58aa2c2f70dee634c4de91\" data-remote=\"true\" method=\"post\"><div style=\"margin:0;padding:0;display:inline\"><input name=\"utf8\" type=\"hidden\" value=\"&#x2713;\" /><input name=\"authenticity_token\" type=\"hidden\" value=\"nvxBiK4fkI/Mh5ar5g5BStgnr5Bc/MVqFDwY4jZltFf22z6o6qU/rwPBwi/65Fl2w9qOMnbDmWQklmSVjUsTsg==\" /></div><button class=\"btn-link js-clone-selector\" data-protocol=\"subversion\" type=\"submit\">Subversion</button></form>.\n",
       "    <a href=\"https://help.github.com/articles/which-remote-url-should-i-use\" class=\"help tooltipped tooltipped-n\" aria-label=\"Get help on which URL is right for you.\">\n",
       "      <span class=\"octicon octicon-question\"></span>\n",
       "    </a>\n",
       "  </div>\n",
       "\n",
       "              <a href=\"/damianbraun/nominatim/archive/master.zip\"\n",
       "                 class=\"btn btn-sm sidebar-button\"\n",
       "                 aria-label=\"Download the contents of damianbraun/nominatim as a zip file\"\n",
       "                 title=\"Download the contents of damianbraun/nominatim as a zip file\"\n",
       "                 rel=\"nofollow\">\n",
       "                <span class=\"octicon octicon-cloud-download\"></span>\n",
       "                Download ZIP\n",
       "              </a>\n",
       "            </div>\n",
       "        </div>\n",
       "        <div id=\"js-repo-pjax-container\" class=\"repository-content context-loader-container\" data-pjax-container>\n",
       "\n",
       "          \n",
       "\n",
       "<a href=\"/damianbraun/nominatim/blob/d3cc40e1d31755aabf7302a617ab6e982eeb9b4f/README.md\" class=\"hidden js-permalink-shortcut\" data-hotkey=\"y\">Permalink</a>\n",
       "\n",
       "<!-- blob contrib key: blob_contributors:v21:89f7176b74a11b6e1045aea6d10f1b96 -->\n",
       "\n",
       "  <div class=\"file-navigation js-zeroclipboard-container\">\n",
       "    \n",
       "<div class=\"select-menu js-menu-container js-select-menu left\">\n",
       "  <span class=\"btn btn-sm select-menu-button js-menu-target css-truncate\" data-hotkey=\"w\"\n",
       "    data-ref=\"master\"\n",
       "    title=\"master\"\n",
       "    role=\"button\" aria-label=\"Switch branches or tags\" tabindex=\"0\" aria-haspopup=\"true\">\n",
       "    <i>Branch:</i>\n",
       "    <span class=\"js-select-button css-truncate-target\">master</span>\n",
       "  </span>\n",
       "\n",
       "  <div class=\"select-menu-modal-holder js-menu-content js-navigation-container\" data-pjax aria-hidden=\"true\">\n",
       "\n",
       "    <div class=\"select-menu-modal\">\n",
       "      <div class=\"select-menu-header\">\n",
       "        <span class=\"select-menu-title\">Switch branches/tags</span>\n",
       "        <span class=\"octicon octicon-x js-menu-close\" role=\"button\" aria-label=\"Close\"></span>\n",
       "      </div>\n",
       "\n",
       "      <div class=\"select-menu-filters\">\n",
       "        <div class=\"select-menu-text-filter\">\n",
       "          <input type=\"text\" aria-label=\"Filter branches/tags\" id=\"context-commitish-filter-field\" class=\"js-filterable-field js-navigation-enable\" placeholder=\"Filter branches/tags\">\n",
       "        </div>\n",
       "        <div class=\"select-menu-tabs\">\n",
       "          <ul>\n",
       "            <li class=\"select-menu-tab\">\n",
       "              <a href=\"#\" data-tab-filter=\"branches\" data-filter-placeholder=\"Filter branches/tags\" class=\"js-select-menu-tab\" role=\"tab\">Branches</a>\n",
       "            </li>\n",
       "            <li class=\"select-menu-tab\">\n",
       "              <a href=\"#\" data-tab-filter=\"tags\" data-filter-placeholder=\"Find a tag…\" class=\"js-select-menu-tab\" role=\"tab\">Tags</a>\n",
       "            </li>\n",
       "          </ul>\n",
       "        </div>\n",
       "      </div>\n",
       "\n",
       "      <div class=\"select-menu-list select-menu-tab-bucket js-select-menu-tab-bucket\" data-tab-filter=\"branches\" role=\"menu\">\n",
       "\n",
       "        <div data-filterable-for=\"context-commitish-filter-field\" data-filterable-type=\"substring\">\n",
       "\n",
       "\n",
       "            <a class=\"select-menu-item js-navigation-item js-navigation-open selected\"\n",
       "               href=\"/damianbraun/nominatim/blob/master/README.md\"\n",
       "               data-name=\"master\"\n",
       "               data-skip-pjax=\"true\"\n",
       "               rel=\"nofollow\">\n",
       "              <span class=\"select-menu-item-icon octicon octicon-check\"></span>\n",
       "              <span class=\"select-menu-item-text css-truncate-target\" title=\"master\">\n",
       "                master\n",
       "              </span>\n",
       "            </a>\n",
       "        </div>\n",
       "\n",
       "          <div class=\"select-menu-no-results\">Nothing to show</div>\n",
       "      </div>\n",
       "\n",
       "      <div class=\"select-menu-list select-menu-tab-bucket js-select-menu-tab-bucket\" data-tab-filter=\"tags\">\n",
       "        <div data-filterable-for=\"context-commitish-filter-field\" data-filterable-type=\"substring\">\n",
       "\n",
       "\n",
       "        </div>\n",
       "\n",
       "        <div class=\"select-menu-no-results\">Nothing to show</div>\n",
       "      </div>\n",
       "\n",
       "    </div>\n",
       "  </div>\n",
       "</div>\n",
       "\n",
       "    <div class=\"btn-group right\">\n",
       "      <a href=\"/damianbraun/nominatim/find/master\"\n",
       "            class=\"js-show-file-finder btn btn-sm empty-icon tooltipped tooltipped-nw\"\n",
       "            data-pjax\n",
       "            data-hotkey=\"t\"\n",
       "            aria-label=\"Quickly jump between files\">\n",
       "        <span class=\"octicon octicon-list-unordered\"></span>\n",
       "      </a>\n",
       "      <button aria-label=\"Copy file path to clipboard\" class=\"js-zeroclipboard btn btn-sm zeroclipboard-button tooltipped tooltipped-s\" data-copied-hint=\"Copied!\" type=\"button\"><span class=\"octicon octicon-clippy\"></span></button>\n",
       "    </div>\n",
       "\n",
       "    <div class=\"breadcrumb js-zeroclipboard-target\">\n",
       "      <span class=\"repo-root js-repo-root\"><span itemscope=\"\" itemtype=\"http://data-vocabulary.org/Breadcrumb\"><a href=\"/damianbraun/nominatim\" class=\"\" data-branch=\"master\" data-pjax=\"true\" itemscope=\"url\"><span itemprop=\"title\">nominatim</span></a></span></span><span class=\"separator\">/</span><strong class=\"final-path\">README.md</strong>\n",
       "    </div>\n",
       "  </div>\n",
       "\n",
       "<include-fragment class=\"commit commit-loader file-history-tease\" src=\"/damianbraun/nominatim/contributors/master/README.md\">\n",
       "  <div class=\"file-history-tease-header\">\n",
       "    Fetching contributors&hellip;\n",
       "  </div>\n",
       "\n",
       "  <div class=\"participation\">\n",
       "    <p class=\"loader-loading\"><img alt=\"\" height=\"16\" src=\"https://assets-cdn.github.com/images/spinners/octocat-spinner-32-EAF2F5.gif\" width=\"16\" /></p>\n",
       "    <p class=\"loader-error\">Cannot retrieve contributors at this time</p>\n",
       "  </div>\n",
       "</include-fragment>\n",
       "<div class=\"file\">\n",
       "  <div class=\"file-header\">\n",
       "    <div class=\"file-actions\">\n",
       "\n",
       "      <div class=\"btn-group\">\n",
       "        <a href=\"/damianbraun/nominatim/raw/master/README.md\" class=\"btn btn-sm \" id=\"raw-url\">Raw</a>\n",
       "          <a href=\"/damianbraun/nominatim/blame/master/README.md\" class=\"btn btn-sm js-update-url-with-hash\">Blame</a>\n",
       "        <a href=\"/damianbraun/nominatim/commits/master/README.md\" class=\"btn btn-sm \" rel=\"nofollow\">History</a>\n",
       "      </div>\n",
       "\n",
       "\n",
       "          <button type=\"button\" class=\"octicon-btn disabled tooltipped tooltipped-n\" aria-label=\"You must be signed in to make or propose changes\">\n",
       "            <span class=\"octicon octicon-pencil\"></span>\n",
       "          </button>\n",
       "\n",
       "        <button type=\"button\" class=\"octicon-btn octicon-btn-danger disabled tooltipped tooltipped-n\" aria-label=\"You must be signed in to make or propose changes\">\n",
       "          <span class=\"octicon octicon-trashcan\"></span>\n",
       "        </button>\n",
       "    </div>\n",
       "\n",
       "    <div class=\"file-info\">\n",
       "        68 lines (55 sloc)\n",
       "        <span class=\"file-info-divider\"></span>\n",
       "      1.799 kB\n",
       "    </div>\n",
       "  </div>\n",
       "  \n",
       "  <div id=\"readme\" class=\"blob instapaper_body\">\n",
       "    <article class=\"markdown-body entry-content\" itemprop=\"mainContentOfPage\"><h1><a id=\"user-content-nominatim\" class=\"anchor\" href=\"#nominatim\" aria-hidden=\"true\"><span class=\"octicon octicon-link\"></span></a>nominatim</h1>\n",
       "\n",
       "<p>OSM Nominatim API module\n",
       "<a href=\"https://pypi.python.org/pypi/nominatim\">pypi</a></p>\n",
       "\n",
       "<p>tested with <strong>Python 2.7.6</strong> and <strong>Python 3.4.0</strong></p>\n",
       "\n",
       "<h3><a id=\"user-content-instalation\" class=\"anchor\" href=\"#instalation\" aria-hidden=\"true\"><span class=\"octicon octicon-link\"></span></a>Instalation</h3>\n",
       "\n",
       "<div class=\"highlight highlight-sh\"><pre>pip install nominatim</pre></div>\n",
       "\n",
       "<p>or</p>\n",
       "\n",
       "<div class=\"highlight highlight-sh\"><pre>git clone https://github.com/damianbraun/nominatim.git\n",
       "python setup.py install</pre></div>\n",
       "\n",
       "<h3><a id=\"user-content-quick-start\" class=\"anchor\" href=\"#quick-start\" aria-hidden=\"true\"><span class=\"octicon octicon-link\"></span></a>Quick Start</h3>\n",
       "\n",
       "<pre><code>In [1]: from nominatim import Nominatim, NominatimReverse\n",
       "\n",
       "In [2]: nom = Nominatim()\n",
       "\n",
       "In [3]: nom.query('58 Parker Street London')\n",
       "Out[3]: \n",
       "[{u'boundingbox': [u'51.5162200927734',\n",
       "   u'51.516357421875',\n",
       "   u'-0.120491504669189',\n",
       "   u'-0.12029179930687'],\n",
       "  u'class': u'place',\n",
       "  u'display_name': u'58, Parker Street, Holborn, St Giles, London Borough of Camden, London, Greater London, England, WC2, United Kingdom',\n",
       "  u'importance': 0.421,\n",
       "  u'lat': u'51.5162894',\n",
       "  u'licence': u'Data \\xa9 OpenStreetMap contributors, ODbL 1.0. http://www.openstreetmap.org/copyright',\n",
       "  u'lon': u'-0.120392595530143',\n",
       "  u'osm_id': u'148391190',\n",
       "  u'osm_type': u'way',\n",
       "  u'place_id': u'83887926',\n",
       "  u'type': u'house'}]\n",
       "\n",
       "In [4]: nomrev = NominatimReverse()\n",
       "\n",
       "In [5]: nomrev.query(lat=51.51640, lon=-0.12036)\n",
       "Out[5]: \n",
       "{u'address': {u'city': u'Greater London',\n",
       "  u'country': u'United Kingdom',\n",
       "  u'country_code': u'gb',\n",
       "  u'house': u'Parker Tower',\n",
       "  u'house_number': u'43-49',\n",
       "  u'neighbourhood': u'Holborn',\n",
       "  u'postcode': u'WC2',\n",
       "  u'road': u'Parker Street',\n",
       "  u'state': u'England',\n",
       "  u'suburb': u'St Giles'},\n",
       " u'display_name': u'Parker Tower, 43-49, Parker Street, Holborn, St Giles, London Borough of Camden, London, Greater London, England, WC2, United Kingdom',\n",
       " u'lat': u'51.5163998',\n",
       " u'licence': u'Data \\xa9 OpenStreetMap contributors, ODbL 1.0. http://www.openstreetmap.org/copyright',\n",
       " u'lon': u'-0.120774554750572',\n",
       " u'osm_id': u'97237923',\n",
       " u'osm_type': u'way',\n",
       " u'place_id': u'64398568'}\n",
       "</code></pre>\n",
       "</article>\n",
       "  </div>\n",
       "\n",
       "</div>\n",
       "\n",
       "<a href=\"#jump-to-line\" rel=\"facebox[.linejump]\" data-hotkey=\"l\" style=\"display:none\">Jump to Line</a>\n",
       "<div id=\"jump-to-line\" style=\"display:none\">\n",
       "  <!-- </textarea> --><!-- '\"` --><form accept-charset=\"UTF-8\" action=\"\" class=\"js-jump-to-line-form\" method=\"get\"><div style=\"margin:0;padding:0;display:inline\"><input name=\"utf8\" type=\"hidden\" value=\"&#x2713;\" /></div>\n",
       "    <input class=\"linejump-input js-jump-to-line-field\" type=\"text\" placeholder=\"Jump to line&hellip;\" aria-label=\"Jump to line\" autofocus>\n",
       "    <button type=\"submit\" class=\"btn\">Go</button>\n",
       "</form></div>\n",
       "\n",
       "        </div>\n",
       "      </div>\n",
       "      <div class=\"modal-backdrop\"></div>\n",
       "    </div>\n",
       "  </div>\n",
       "\n",
       "\n",
       "    </div><!-- /.wrapper -->\n",
       "\n",
       "      <div class=\"container\">\n",
       "  <div class=\"site-footer\" role=\"contentinfo\">\n",
       "    <ul class=\"site-footer-links right\">\n",
       "        <li><a href=\"https://status.github.com/\" data-ga-click=\"Footer, go to status, text:status\">Status</a></li>\n",
       "      <li><a href=\"https://developer.github.com\" data-ga-click=\"Footer, go to api, text:api\">API</a></li>\n",
       "      <li><a href=\"https://training.github.com\" data-ga-click=\"Footer, go to training, text:training\">Training</a></li>\n",
       "      <li><a href=\"https://shop.github.com\" data-ga-click=\"Footer, go to shop, text:shop\">Shop</a></li>\n",
       "        <li><a href=\"https://github.com/blog\" data-ga-click=\"Footer, go to blog, text:blog\">Blog</a></li>\n",
       "        <li><a href=\"https://github.com/about\" data-ga-click=\"Footer, go to about, text:about\">About</a></li>\n",
       "        <li><a href=\"https://github.com/pricing\" data-ga-click=\"Footer, go to pricing, text:pricing\">Pricing</a></li>\n",
       "\n",
       "    </ul>\n",
       "\n",
       "    <a href=\"https://github.com\" aria-label=\"Homepage\">\n",
       "      <span class=\"mega-octicon octicon-mark-github\" title=\"GitHub\"></span>\n",
       "</a>\n",
       "    <ul class=\"site-footer-links\">\n",
       "      <li>&copy; 2015 <span title=\"0.05815s from github-fe118-cp1-prd.iad.github.net\">GitHub</span>, Inc.</li>\n",
       "        <li><a href=\"https://github.com/site/terms\" data-ga-click=\"Footer, go to terms, text:terms\">Terms</a></li>\n",
       "        <li><a href=\"https://github.com/site/privacy\" data-ga-click=\"Footer, go to privacy, text:privacy\">Privacy</a></li>\n",
       "        <li><a href=\"https://github.com/security\" data-ga-click=\"Footer, go to security, text:security\">Security</a></li>\n",
       "        <li><a href=\"https://github.com/contact\" data-ga-click=\"Footer, go to contact, text:contact\">Contact</a></li>\n",
       "        <li><a href=\"https://help.github.com\" data-ga-click=\"Footer, go to help, text:help\">Help</a></li>\n",
       "    </ul>\n",
       "  </div>\n",
       "</div>\n",
       "\n",
       "\n",
       "    <div class=\"fullscreen-overlay js-fullscreen-overlay\" id=\"fullscreen_overlay\">\n",
       "  <div class=\"fullscreen-container js-suggester-container\">\n",
       "    <div class=\"textarea-wrap\">\n",
       "      <textarea name=\"fullscreen-contents\" id=\"fullscreen-contents\" class=\"fullscreen-contents js-fullscreen-contents\" placeholder=\"\" aria-label=\"\"></textarea>\n",
       "      <div class=\"suggester-container\">\n",
       "        <div class=\"suggester fullscreen-suggester js-suggester js-navigation-container\"></div>\n",
       "      </div>\n",
       "    </div>\n",
       "  </div>\n",
       "  <div class=\"fullscreen-sidebar\">\n",
       "    <a href=\"#\" class=\"exit-fullscreen js-exit-fullscreen tooltipped tooltipped-w\" aria-label=\"Exit Zen Mode\">\n",
       "      <span class=\"mega-octicon octicon-screen-normal\"></span>\n",
       "    </a>\n",
       "    <a href=\"#\" class=\"theme-switcher js-theme-switcher tooltipped tooltipped-w\"\n",
       "      aria-label=\"Switch themes\">\n",
       "      <span class=\"octicon octicon-color-mode\"></span>\n",
       "    </a>\n",
       "  </div>\n",
       "</div>\n",
       "\n",
       "\n",
       "\n",
       "    \n",
       "    \n",
       "\n",
       "    <div id=\"ajax-error-message\" class=\"flash flash-error\">\n",
       "      <span class=\"octicon octicon-alert\"></span>\n",
       "      <button type=\"button\" class=\"flash-close js-flash-close js-ajax-error-dismiss\" aria-label=\"Dismiss error\">\n",
       "        <span class=\"octicon octicon-x\"></span>\n",
       "      </button>\n",
       "      Something went wrong with that request. Please try again.\n",
       "    </div>\n",
       "\n",
       "\n",
       "      <script crossorigin=\"anonymous\" src=\"https://assets-cdn.github.com/assets/frameworks-2317046bbda4f1c516c598a8b2c63343669922648e6987a1ed4f909dce1fb689.js\"></script>\n",
       "      <script async=\"async\" crossorigin=\"anonymous\" src=\"https://assets-cdn.github.com/assets/github/index-99a877e59649e094c6a3fb198f6bd13f79fb63038247395086c982d5058b26fe.js\"></script>\n",
       "      \n",
       "      \n",
       "    <div class=\"js-stale-session-flash stale-session-flash flash flash-warn flash-banner hidden\">\n",
       "      <span class=\"octicon octicon-alert\"></span>\n",
       "      <span class=\"signed-in-tab-flash\">You signed in with another tab or window. <a href=\"\">Reload</a> to refresh your session.</span>\n",
       "      <span class=\"signed-out-tab-flash\">You signed out in another tab or window. <a href=\"\">Reload</a> to refresh your session.</span>\n",
       "    </div>\n",
       "  </body>\n",
       "</html>\n",
       "\n"
      ],
      "text/plain": [
       "<IPython.core.display.HTML object>"
      ]
     },
     "execution_count": 2,
     "metadata": {},
     "output_type": "execute_result"
    }
   ],
   "source": [
    "HTML('https://github.com/damianbraun/nominatim/blob/master/README.md')"
   ]
  },
  {
   "cell_type": "markdown",
   "metadata": {},
   "source": [
    "Everyone should have already installed this from our setup time.  Go ahead and try this:"
   ]
  },
  {
   "cell_type": "code",
   "execution_count": 4,
   "metadata": {
    "collapsed": false
   },
   "outputs": [],
   "source": [
    "from nominatim import Nominatim #importing the module\n",
    "nom = Nominatim() # instantiation of a Nominatim object.\n",
    "result =  nom.query('Springfield, IL') # act on this object, by doing a query"
   ]
  },
  {
   "cell_type": "code",
   "execution_count": 6,
   "metadata": {
    "collapsed": false
   },
   "outputs": [
    {
     "name": "stdout",
     "output_type": "stream",
     "text": [
      "[{u'display_name': u'Springfield, Sangamon County, Illinois, United States of America', u'importance': 0.75119258847715, u'place_id': u'127637285', u'lon': u'-89.6443688', u'lat': u'39.7989763', u'osm_type': u'relation', u'licence': u'Data \\xa9 OpenStreetMap contributors, ODbL 1.0. http://www.openstreetmap.org/copyright', u'osm_id': u'126326', u'boundingbox': [u'39.653656', u'39.87417', u'-89.7731819', u'-89.5685099'], u'type': u'city', u'class': u'place', u'icon': u'http://nominatim.openstreetmap.org/images/mapicons/poi_place_city.p.20.png'}, {u'display_name': u'Springfield, Hampden County, Massachusetts, United States of America', u'importance': 0.63955653973518, u'place_id': u'127723820', u'lon': u'-72.5467136595821', u'lat': u'42.11241225', u'osm_type': u'relation', u'licence': u'Data \\xa9 OpenStreetMap contributors, ODbL 1.0. http://www.openstreetmap.org/copyright', u'osm_id': u'1181618', u'boundingbox': [u'42.0637364', u'42.1622195', u'-72.6221575', u'-72.4710869'], u'type': u'city', u'class': u'place', u'icon': u'http://nominatim.openstreetmap.org/images/mapicons/poi_place_city.p.20.png'}, {u'display_name': u'Springfield, Greene County, Missouri, United States of America', u'importance': 0.61235218297741, u'place_id': u'127771207', u'lon': u'-93.2982521', u'lat': u'37.2153307', u'osm_type': u'relation', u'licence': u'Data \\xa9 OpenStreetMap contributors, ODbL 1.0. http://www.openstreetmap.org/copyright', u'osm_id': u'141244', u'boundingbox': [u'37.087402', u'37.271089', u'-93.4140038', u'-93.1797158'], u'type': u'city', u'class': u'place', u'icon': u'http://nominatim.openstreetmap.org/images/mapicons/poi_place_city.p.20.png'}, {u'display_name': u'Springfield, Clark County, Ohio, United States of America', u'importance': 0.56683563514305, u'place_id': u'127430595', u'lon': u'-83.8088172', u'lat': u'39.9242266', u'osm_type': u'relation', u'licence': u'Data \\xa9 OpenStreetMap contributors, ODbL 1.0. http://www.openstreetmap.org/copyright', u'osm_id': u'182868', u'boundingbox': [u'39.887855', u'39.982857', u'-83.8696619', u'-83.7034239'], u'type': u'city', u'class': u'place', u'icon': u'http://nominatim.openstreetmap.org/images/mapicons/poi_place_city.p.20.png'}, {u'display_name': u'Springfield, Lane County, Oregon, United States of America', u'importance': 0.53688780577389, u'place_id': u'127768947', u'lon': u'-123.0220289', u'lat': u'44.0462362', u'osm_type': u'relation', u'licence': u'Data \\xa9 OpenStreetMap contributors, ODbL 1.0. http://www.openstreetmap.org/copyright', u'osm_id': u'186721', u'boundingbox': [u'44.0224852', u'44.0949559', u'-123.0500744', u'-122.8789825'], u'type': u'city', u'class': u'place', u'icon': u'http://nominatim.openstreetmap.org/images/mapicons/poi_place_city.p.20.png'}, {u'display_name': u'Springfield, Fairfax County, Virginia, United States of America', u'importance': 0.49865236003439, u'place_id': u'127455252', u'lon': u'-77.1870368', u'lat': u'38.7890522', u'osm_type': u'relation', u'licence': u'Data \\xa9 OpenStreetMap contributors, ODbL 1.0. http://www.openstreetmap.org/copyright', u'osm_id': u'206834', u'boundingbox': [u'38.7380868', u'38.815393', u'-77.2189469', u'-77.1344909'], u'type': u'administrative', u'class': u'boundary', u'icon': u'http://nominatim.openstreetmap.org/images/mapicons/poi_boundary_administrative.p.20.png'}, {u'display_name': u'Springfield, Washington County, Kentucky, United States of America', u'importance': 0.47473979407787, u'place_id': u'127754158', u'lon': u'-85.2221819', u'lat': u'37.6853413', u'osm_type': u'relation', u'licence': u'Data \\xa9 OpenStreetMap contributors, ODbL 1.0. http://www.openstreetmap.org/copyright', u'osm_id': u'130835', u'boundingbox': [u'37.670609', u'37.711215', u'-85.2458999', u'-85.1839109'], u'type': u'city', u'class': u'place', u'icon': u'http://nominatim.openstreetmap.org/images/mapicons/poi_place_city.p.20.png'}, {u'display_name': u'Springfield, Bon Homme County, South Dakota, United States of America', u'importance': 0.47473979407787, u'place_id': u'127770318', u'lon': u'-97.8972907', u'lat': u'42.8541658', u'osm_type': u'relation', u'licence': u'Data \\xa9 OpenStreetMap contributors, ODbL 1.0. http://www.openstreetmap.org/copyright', u'osm_id': u'194863', u'boundingbox': [u'42.842414', u'42.887307', u'-97.9057459', u'-97.8845059'], u'type': u'city', u'class': u'place', u'icon': u'http://nominatim.openstreetmap.org/images/mapicons/poi_place_city.p.20.png'}, {u'display_name': u'Springfield, Windsor County, Vermont, United States of America', u'importance': 0.46497609677909, u'place_id': u'127890820', u'lon': u'-72.4823118', u'lat': u'43.2984078', u'osm_type': u'relation', u'licence': u'Data \\xa9 OpenStreetMap contributors, ODbL 1.0. http://www.openstreetmap.org/copyright', u'osm_id': u'2027202', u'boundingbox': [u'43.2333061', u'43.3452496', u'-72.5499028', u'-72.3952382'], u'type': u'administrative', u'class': u'boundary', u'icon': u'http://nominatim.openstreetmap.org/images/mapicons/poi_boundary_administrative.p.20.png'}, {u'display_name': u'Springfield, Sullivan County, New Hampshire, United States of America', u'importance': 0.4421866047208, u'place_id': u'127933844', u'lon': u'-72.0334187', u'lat': u'43.4950735', u'osm_type': u'relation', u'licence': u'Data \\xa9 OpenStreetMap contributors, ODbL 1.0. http://www.openstreetmap.org/copyright', u'osm_id': u'2016818', u'boundingbox': [u'43.4369541', u'43.553284', u'-72.1153016', u'-71.9351118'], u'type': u'administrative', u'class': u'boundary', u'icon': u'http://nominatim.openstreetmap.org/images/mapicons/poi_boundary_administrative.p.20.png'}]\n"
     ]
    }
   ],
   "source": [
    "print result"
   ]
  },
  {
   "cell_type": "markdown",
   "metadata": {
    "collapsed": true
   },
   "source": [
    "That's a bunch of stuff!  We need to dig in to see the data structure though.  Here we're going to meet the other container type: the dictionary.\n",
    "\n",
    "First, let's see what it is returning to us."
   ]
  },
  {
   "cell_type": "code",
   "execution_count": 7,
   "metadata": {
    "collapsed": false
   },
   "outputs": [
    {
     "name": "stdout",
     "output_type": "stream",
     "text": [
      "<type 'list'>\n"
     ]
    }
   ],
   "source": [
    "print type(result)"
   ]
  },
  {
   "cell_type": "markdown",
   "metadata": {},
   "source": [
    "So this is a list, and we can see that by the opening and closing square brackets.  Let's look at an easy way to see what's inside of a list."
   ]
  },
  {
   "cell_type": "code",
   "execution_count": 8,
   "metadata": {
    "collapsed": false
   },
   "outputs": [
    {
     "name": "stdout",
     "output_type": "stream",
     "text": [
      "10\n"
     ]
    }
   ],
   "source": [
    "# how long is it?\n",
    "\n",
    "print len(result)"
   ]
  },
  {
   "cell_type": "code",
   "execution_count": 10,
   "metadata": {
    "collapsed": false
   },
   "outputs": [
    {
     "name": "stdout",
     "output_type": "stream",
     "text": [
      "{u'display_name': u'Springfield, Sangamon County, Illinois, United States of America', u'importance': 0.75119258847715, u'place_id': u'127637285', u'lon': u'-89.6443688', u'lat': u'39.7989763', u'osm_type': u'relation', u'licence': u'Data \\xa9 OpenStreetMap contributors, ODbL 1.0. http://www.openstreetmap.org/copyright', u'osm_id': u'126326', u'boundingbox': [u'39.653656', u'39.87417', u'-89.7731819', u'-89.5685099'], u'type': u'city', u'class': u'place', u'icon': u'http://nominatim.openstreetmap.org/images/mapicons/poi_place_city.p.20.png'}\n",
      "{u'display_name': u'Springfield, Hampden County, Massachusetts, United States of America', u'importance': 0.63955653973518, u'place_id': u'127723820', u'lon': u'-72.5467136595821', u'lat': u'42.11241225', u'osm_type': u'relation', u'licence': u'Data \\xa9 OpenStreetMap contributors, ODbL 1.0. http://www.openstreetmap.org/copyright', u'osm_id': u'1181618', u'boundingbox': [u'42.0637364', u'42.1622195', u'-72.6221575', u'-72.4710869'], u'type': u'city', u'class': u'place', u'icon': u'http://nominatim.openstreetmap.org/images/mapicons/poi_place_city.p.20.png'}\n",
      "{u'display_name': u'Springfield, Greene County, Missouri, United States of America', u'importance': 0.61235218297741, u'place_id': u'127771207', u'lon': u'-93.2982521', u'lat': u'37.2153307', u'osm_type': u'relation', u'licence': u'Data \\xa9 OpenStreetMap contributors, ODbL 1.0. http://www.openstreetmap.org/copyright', u'osm_id': u'141244', u'boundingbox': [u'37.087402', u'37.271089', u'-93.4140038', u'-93.1797158'], u'type': u'city', u'class': u'place', u'icon': u'http://nominatim.openstreetmap.org/images/mapicons/poi_place_city.p.20.png'}\n",
      "{u'display_name': u'Springfield, Clark County, Ohio, United States of America', u'importance': 0.56683563514305, u'place_id': u'127430595', u'lon': u'-83.8088172', u'lat': u'39.9242266', u'osm_type': u'relation', u'licence': u'Data \\xa9 OpenStreetMap contributors, ODbL 1.0. http://www.openstreetmap.org/copyright', u'osm_id': u'182868', u'boundingbox': [u'39.887855', u'39.982857', u'-83.8696619', u'-83.7034239'], u'type': u'city', u'class': u'place', u'icon': u'http://nominatim.openstreetmap.org/images/mapicons/poi_place_city.p.20.png'}\n",
      "{u'display_name': u'Springfield, Lane County, Oregon, United States of America', u'importance': 0.53688780577389, u'place_id': u'127768947', u'lon': u'-123.0220289', u'lat': u'44.0462362', u'osm_type': u'relation', u'licence': u'Data \\xa9 OpenStreetMap contributors, ODbL 1.0. http://www.openstreetmap.org/copyright', u'osm_id': u'186721', u'boundingbox': [u'44.0224852', u'44.0949559', u'-123.0500744', u'-122.8789825'], u'type': u'city', u'class': u'place', u'icon': u'http://nominatim.openstreetmap.org/images/mapicons/poi_place_city.p.20.png'}\n",
      "{u'display_name': u'Springfield, Fairfax County, Virginia, United States of America', u'importance': 0.49865236003439, u'place_id': u'127455252', u'lon': u'-77.1870368', u'lat': u'38.7890522', u'osm_type': u'relation', u'licence': u'Data \\xa9 OpenStreetMap contributors, ODbL 1.0. http://www.openstreetmap.org/copyright', u'osm_id': u'206834', u'boundingbox': [u'38.7380868', u'38.815393', u'-77.2189469', u'-77.1344909'], u'type': u'administrative', u'class': u'boundary', u'icon': u'http://nominatim.openstreetmap.org/images/mapicons/poi_boundary_administrative.p.20.png'}\n",
      "{u'display_name': u'Springfield, Washington County, Kentucky, United States of America', u'importance': 0.47473979407787, u'place_id': u'127754158', u'lon': u'-85.2221819', u'lat': u'37.6853413', u'osm_type': u'relation', u'licence': u'Data \\xa9 OpenStreetMap contributors, ODbL 1.0. http://www.openstreetmap.org/copyright', u'osm_id': u'130835', u'boundingbox': [u'37.670609', u'37.711215', u'-85.2458999', u'-85.1839109'], u'type': u'city', u'class': u'place', u'icon': u'http://nominatim.openstreetmap.org/images/mapicons/poi_place_city.p.20.png'}\n",
      "{u'display_name': u'Springfield, Bon Homme County, South Dakota, United States of America', u'importance': 0.47473979407787, u'place_id': u'127770318', u'lon': u'-97.8972907', u'lat': u'42.8541658', u'osm_type': u'relation', u'licence': u'Data \\xa9 OpenStreetMap contributors, ODbL 1.0. http://www.openstreetmap.org/copyright', u'osm_id': u'194863', u'boundingbox': [u'42.842414', u'42.887307', u'-97.9057459', u'-97.8845059'], u'type': u'city', u'class': u'place', u'icon': u'http://nominatim.openstreetmap.org/images/mapicons/poi_place_city.p.20.png'}\n",
      "{u'display_name': u'Springfield, Windsor County, Vermont, United States of America', u'importance': 0.46497609677909, u'place_id': u'127890820', u'lon': u'-72.4823118', u'lat': u'43.2984078', u'osm_type': u'relation', u'licence': u'Data \\xa9 OpenStreetMap contributors, ODbL 1.0. http://www.openstreetmap.org/copyright', u'osm_id': u'2027202', u'boundingbox': [u'43.2333061', u'43.3452496', u'-72.5499028', u'-72.3952382'], u'type': u'administrative', u'class': u'boundary', u'icon': u'http://nominatim.openstreetmap.org/images/mapicons/poi_boundary_administrative.p.20.png'}\n",
      "{u'display_name': u'Springfield, Sullivan County, New Hampshire, United States of America', u'importance': 0.4421866047208, u'place_id': u'127933844', u'lon': u'-72.0334187', u'lat': u'43.4950735', u'osm_type': u'relation', u'licence': u'Data \\xa9 OpenStreetMap contributors, ODbL 1.0. http://www.openstreetmap.org/copyright', u'osm_id': u'2016818', u'boundingbox': [u'43.4369541', u'43.553284', u'-72.1153016', u'-71.9351118'], u'type': u'administrative', u'class': u'boundary', u'icon': u'http://nominatim.openstreetmap.org/images/mapicons/poi_boundary_administrative.p.20.png'}\n"
     ]
    }
   ],
   "source": [
    "# so there are 10 things in here...\n",
    "\n",
    "# let's look at this using how we know to loop through lists\n",
    "\n",
    "for each in result:\n",
    "    print each"
   ]
  },
  {
   "cell_type": "code",
   "execution_count": null,
   "metadata": {
    "collapsed": true
   },
   "outputs": [],
   "source": [
    "for each in result:\n",
    "    print each['display_name'], each['lat'], each['lon']"
   ]
  }
 ],
 "metadata": {
  "kernelspec": {
   "display_name": "Python 2",
   "language": "python",
   "name": "python2"
  },
  "language_info": {
   "codemirror_mode": {
    "name": "ipython",
    "version": 2
   },
   "file_extension": ".py",
   "mimetype": "text/x-python",
   "name": "python",
   "nbconvert_exporter": "python",
   "pygments_lexer": "ipython2",
   "version": "2.7.6"
  }
 },
 "nbformat": 4,
 "nbformat_minor": 0
}
