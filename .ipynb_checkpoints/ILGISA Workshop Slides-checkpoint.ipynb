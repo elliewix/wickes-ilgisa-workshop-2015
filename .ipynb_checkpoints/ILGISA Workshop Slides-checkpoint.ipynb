{
 "cells": [
  {
   "cell_type": "markdown",
   "metadata": {},
   "source": [
    "# Welcome stuff"
   ]
  },
  {
   "cell_type": "markdown",
   "metadata": {},
   "source": [
    "# Installation\n",
    "\n",
    "While we're getting started, everyone should start downloading PyCharm Community edition.\n",
    "\n",
    "Located here: https://www.jetbrains.com/pycharm/download/\n",
    "\n",
    "This can be a large file, I have it on a flash drive if we need.  \n",
    "\n",
    "Does anyone not have the rights to install software?\n",
    "\n",
    "Already using Python?  If you feel comfortable in your own envirionment, use that but I provide no guarentees of support.  Just have it downloaded?  Go ahead and get PyCharm so you can follow along."
   ]
  },
  {
   "cell_type": "markdown",
   "metadata": {},
   "source": [
    "## Inside Pycharm\n",
    "\n",
    "* Use all the default installation paths\n",
    "* When you create a new package, name it something like GISPractice.\n",
    "* Right click on that project name on the left box area, select new -> Python file.\n",
    "\n",
    "* Go into preferences, find your project, should be Project: GISPractice\n",
    "* Click the arrow to open it up\n",
    "* Click on project interpreter\n",
    "* Find the + icon either at the side of the bottom\n",
    "* Search for pip, try to install it.  You may have to tweak which Python instance you are using.\n",
    "* Search for nominatim \n",
    "* Install it\n",
    "\n",
    "* Inside your .py file, type this:\n",
    "\n",
    "```import nominatim\n",
    "print \"hello world\"```\n",
    "\n",
    "* Click the green play button"
   ]
  },
  {
   "cell_type": "markdown",
   "metadata": {},
   "source": [
    "# What is Python?"
   ]
  },
  {
   "cell_type": "code",
   "execution_count": null,
   "metadata": {
    "collapsed": true
   },
   "outputs": [],
   "source": []
  }
 ],
 "metadata": {
  "kernelspec": {
   "display_name": "Python 2",
   "language": "python",
   "name": "python2"
  },
  "language_info": {
   "codemirror_mode": {
    "name": "ipython",
    "version": 2
   },
   "file_extension": ".py",
   "mimetype": "text/x-python",
   "name": "python",
   "nbconvert_exporter": "python",
   "pygments_lexer": "ipython2",
   "version": "2.7.6"
  }
 },
 "nbformat": 4,
 "nbformat_minor": 0
}
