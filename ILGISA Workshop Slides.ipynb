{
 "cells": [
  {
   "cell_type": "markdown",
   "metadata": {},
   "source": [
    "# Welcome stuff"
   ]
  },
  {
   "cell_type": "markdown",
   "metadata": {},
   "source": [
    "# Installation\n",
    "\n",
    "While we're getting started, everyone should start downloading PyCharm Community edition.\n",
    "\n",
    "Located here: https://www.jetbrains.com/pycharm/download/\n",
    "\n",
    "This can be a large file, I have it on a flash drive if we need.  \n",
    "\n",
    "Does anyone not have the rights to install software?\n",
    "\n",
    "Already using Python?  If you feel comfortable in your own envirionment, use that but I provide no guarentees of support.  Just have it downloaded?  Go ahead and get PyCharm so you can follow along."
   ]
  },
  {
   "cell_type": "markdown",
   "metadata": {},
   "source": [
    "## Inside Pycharm\n",
    "\n",
    "* Use all the default installation paths\n",
    "* When you create a new package, name it something like GISPractice.\n",
    "* Right click on that project name on the left box area, select new -> Python file.\n",
    "\n",
    "* Windows folk:\n",
    "    * Download the exe file here: https://pypi.python.org/pypi/nominatim/0.1\n",
    "\n",
    "* Mac folk:\n",
    "    * Download and install developer tools: https://itunes.apple.com/us/genre/mac-developer-tools/id12002?mt=12\n",
    "    * Open up terminal and run `pip install nominatim`  You may need to use sudo.\n",
    "\n",
    "\n",
    "* Inside your .py file, type this:\n",
    "\n",
    "```import nominatim\n",
    "print \"hello world\"```\n",
    "\n",
    "* Click the green play button"
   ]
  },
  {
   "cell_type": "markdown",
   "metadata": {},
   "source": [
    "# What is Python?"
   ]
  },
  {
   "cell_type": "code",
   "execution_count": null,
   "metadata": {
    "collapsed": true
   },
   "outputs": [],
   "source": []
  },
  {
   "cell_type": "code",
   "execution_count": null,
   "metadata": {
    "collapsed": true
   },
   "outputs": [],
   "source": []
  },
  {
   "cell_type": "markdown",
   "metadata": {},
   "source": [
    "# How to make your commands run"
   ]
  },
  {
   "cell_type": "markdown",
   "metadata": {},
   "source": [
    "## Running scrips in PyCharm"
   ]
  },
  {
   "cell_type": "markdown",
   "metadata": {},
   "source": [
    "## Using the interpreter in PyCharm"
   ]
  },
  {
   "cell_type": "markdown",
   "metadata": {},
   "source": [
    "At the bottom left of the PyCharm window you'll see a square with a line under it.  Click that, then click Python Console.  You can also press ctrl/cmd + 4.  General theme here:  type stuff, press enter, stuff happens."
   ]
  },
  {
   "cell_type": "markdown",
   "metadata": {},
   "source": [
    "## `print` statements"
   ]
  },
  {
   "cell_type": "code",
   "execution_count": null,
   "metadata": {
    "collapsed": true
   },
   "outputs": [],
   "source": []
  },
  {
   "cell_type": "code",
   "execution_count": null,
   "metadata": {
    "collapsed": true
   },
   "outputs": [],
   "source": []
  },
  {
   "cell_type": "markdown",
   "metadata": {},
   "source": [
    "## expressions"
   ]
  },
  {
   "cell_type": "code",
   "execution_count": null,
   "metadata": {
    "collapsed": true
   },
   "outputs": [],
   "source": []
  },
  {
   "cell_type": "code",
   "execution_count": null,
   "metadata": {
    "collapsed": true
   },
   "outputs": [],
   "source": []
  },
  {
   "cell_type": "markdown",
   "metadata": {},
   "source": [
    "# Core Objects"
   ]
  },
  {
   "cell_type": "markdown",
   "metadata": {},
   "source": [
    "## `int` vs. `float`"
   ]
  },
  {
   "cell_type": "markdown",
   "metadata": {},
   "source": [
    "## `string`"
   ]
  },
  {
   "cell_type": "markdown",
   "metadata": {},
   "source": [
    "## `list`"
   ]
  },
  {
   "cell_type": "markdown",
   "metadata": {},
   "source": [
    "# `for` loops"
   ]
  },
  {
   "cell_type": "markdown",
   "metadata": {},
   "source": [
    "## What is a loop?"
   ]
  },
  {
   "cell_type": "code",
   "execution_count": null,
   "metadata": {
    "collapsed": true
   },
   "outputs": [],
   "source": []
  },
  {
   "cell_type": "code",
   "execution_count": null,
   "metadata": {
    "collapsed": true
   },
   "outputs": [],
   "source": []
  },
  {
   "cell_type": "markdown",
   "metadata": {},
   "source": [
    "## `for` versus `while`"
   ]
  },
  {
   "cell_type": "code",
   "execution_count": null,
   "metadata": {
    "collapsed": true
   },
   "outputs": [],
   "source": []
  },
  {
   "cell_type": "code",
   "execution_count": null,
   "metadata": {
    "collapsed": true
   },
   "outputs": [],
   "source": []
  },
  {
   "cell_type": "code",
   "execution_count": null,
   "metadata": {
    "collapsed": true
   },
   "outputs": [],
   "source": []
  },
  {
   "cell_type": "markdown",
   "metadata": {},
   "source": [
    "## Let's do some stuff with range"
   ]
  },
  {
   "cell_type": "markdown",
   "metadata": {},
   "source": [
    "Let's print out all the longitude values, incrementing by 15 degrees."
   ]
  },
  {
   "cell_type": "code",
   "execution_count": 1,
   "metadata": {
    "collapsed": false
   },
   "outputs": [
    {
     "name": "stdout",
     "output_type": "stream",
     "text": [
      "-180\n",
      "-165\n",
      "-150\n",
      "-135\n",
      "-120\n",
      "-105\n",
      "-90\n",
      "-75\n",
      "-60\n",
      "-45\n",
      "-30\n",
      "-15\n",
      "0\n",
      "15\n",
      "30\n",
      "45\n",
      "60\n",
      "75\n",
      "90\n",
      "105\n",
      "120\n",
      "135\n",
      "150\n",
      "165\n",
      "180\n"
     ]
    }
   ],
   "source": [
    "for i in range(-180, 181, 15):\n",
    "    print i"
   ]
  },
  {
   "cell_type": "markdown",
   "metadata": {},
   "source": [
    "Great, so I've printed a bunch of numbers.\n",
    "\n",
    "Yes, yes you have.\n",
    "\n",
    "Use your imagination for application!"
   ]
  },
  {
   "cell_type": "markdown",
   "metadata": {},
   "source": [
    "Let's look at this basic syntax:"
   ]
  },
  {
   "cell_type": "code",
   "execution_count": 3,
   "metadata": {
    "collapsed": true
   },
   "outputs": [],
   "source": [
    "iterable_object = ['a', 'b', 'c', 'd']"
   ]
  },
  {
   "cell_type": "code",
   "execution_count": 4,
   "metadata": {
    "collapsed": false
   },
   "outputs": [
    {
     "name": "stdout",
     "output_type": "stream",
     "text": [
      "a\n",
      "b\n",
      "c\n",
      "d\n"
     ]
    }
   ],
   "source": [
    "for iterable_variable in iterable_object:\n",
    "    # do something to the iterable_varilable\n",
    "    print iterable_variable"
   ]
  },
  {
   "cell_type": "markdown",
   "metadata": {
    "collapsed": true
   },
   "source": [
    "This iterable variable is named and created when the for loop first executes.  This variable will hold the individual value being looped over.  You can call it and do things to the value, or you can just ignore it.\n",
    "\n",
    "`for` loops are one of the most vital tools when dealing with data.  These are loops you use when you have a specific number of things to run the loop over.  For example, \"For each of the lines of data...\" or \"For each coordinate pair in my data file...\"\n",
    "\n",
    "`while` loops are on the other end of the loop spectrum.  These are indeterminate loops becuase you don't know how many times you need to run the loop.  For example, \"Until the coordinates are out of range...\" or \"While the areas is less than 1,000 acres...\"\n",
    "\n",
    "Let's review the syntax for the `while` loop, but we won't be covering it in the demos in class."
   ]
  },
  {
   "cell_type": "code",
   "execution_count": 12,
   "metadata": {
    "collapsed": false
   },
   "outputs": [
    {
     "name": "stdout",
     "output_type": "stream",
     "text": [
      "34\n",
      "72\n",
      "104\n",
      "141\n",
      "191\n",
      "233\n",
      "278\n",
      "324\n",
      "360\n",
      "392\n",
      "434\n",
      "471\n",
      "515\n",
      "551\n",
      "594\n",
      "638\n",
      "680\n",
      "717\n",
      "765\n",
      "802\n",
      "841\n",
      "881\n",
      "921\n",
      "951\n",
      "983\n",
      "1016\n",
      "Final area is 1016 using 26 plots\n"
     ]
    }
   ],
   "source": [
    "import random\n",
    "\n",
    "area = 0\n",
    "target = 1000\n",
    "plot_count = 0\n",
    "\n",
    "while area < target:\n",
    "    plot_size = random.randint(30,50)\n",
    "    area = area + plot_size\n",
    "    plot_count = plot_count + 1\n",
    "    print area\n",
    "    \n",
    "print \"Final area is\", area, \"using\", plot_count, \"plots\""
   ]
  },
  {
   "cell_type": "markdown",
   "metadata": {},
   "source": [
    "`while` loops can be very tricky and are worth practicing before really using.  However, they can be very powerful control structures."
   ]
  },
  {
   "cell_type": "markdown",
   "metadata": {},
   "source": [
    "# Reading in data"
   ]
  },
  {
   "cell_type": "markdown",
   "metadata": {},
   "source": [
    "When we read in a file we need to store the data in some way. There are many methods and structures to accomplish this.  The best way will be something you are comfortable with and fits the data.  Chances are you'll develop one way you're comfortable with that works with most of the data you work with."
   ]
  },
  {
   "cell_type": "markdown",
   "metadata": {},
   "source": [
    "## Opening and reading a file"
   ]
  },
  {
   "cell_type": "markdown",
   "metadata": {},
   "source": [
    "There are two methods of opening a file.  `open()` and `close()` or `with`.  I'll be showing you the `with` statement the most, but we'll go over both quickly."
   ]
  },
  {
   "cell_type": "markdown",
   "metadata": {},
   "source": [
    "In both cases, start with the file path as a string.  In this case, we're doing a relative path because the file is a sibling to this notebook in the file system.\n",
    "\n",
    "For more commands and options: https://docs.python.org/2/tutorial/inputoutput.html#reading-and-writing-files"
   ]
  },
  {
   "cell_type": "code",
   "execution_count": 31,
   "metadata": {
    "collapsed": true
   },
   "outputs": [],
   "source": [
    "filename_relative = 'chicacoCSA.csv'\n",
    "filename_full = '/Users/wickes1/Documents/wickes-ilgisa-workshop-2015/chicacoCSA.csv'\n",
    "# windows full paths will look different!"
   ]
  },
  {
   "cell_type": "markdown",
   "metadata": {},
   "source": [
    "Now we need to make our file object."
   ]
  },
  {
   "cell_type": "code",
   "execution_count": 81,
   "metadata": {
    "collapsed": true
   },
   "outputs": [],
   "source": [
    "f = open(filename_relative, 'rU')"
   ]
  },
  {
   "cell_type": "markdown",
   "metadata": {},
   "source": [
    "Now we read in the file"
   ]
  },
  {
   "cell_type": "code",
   "execution_count": 82,
   "metadata": {
    "collapsed": false
   },
   "outputs": [],
   "source": [
    "data = f.read()"
   ]
  },
  {
   "cell_type": "markdown",
   "metadata": {},
   "source": [
    "We can see the raw text values here."
   ]
  },
  {
   "cell_type": "code",
   "execution_count": 84,
   "metadata": {
    "collapsed": false
   },
   "outputs": [
    {
     "name": "stdout",
     "output_type": "stream",
     "text": [
      "Rank,Urban area,type,Population,Land area,Smallest gap\n",
      "1,\"Chicago-Aurora-Elgin-Joliet-Waukegan, IL-IN\",UA,\"8,307,904\",\"5,498.10\",n/a\n",
      "2,\"Round Lake Beach-McHenry-Grayslake, IL-WI\",UA,\"226,848\",344.9,2\n",
      "3,\"Kenosha, WI\",UA,\"110,942\",109.2,1\n",
      "4,\"Michigan City-LaPorte, IN-MI\",UA,\"66,199\",86.1,3\n",
      "5,\"Kankakee-Bradley-Bourbonnais, IL\",UA,\"65,073\",71.5,>10\n",
      "6,\"DeKalb-Sycamore, IL\",UA,\"55,805\",46.3,>10\n",
      "7,\"Woodstock, IL\",UC,\"20,219\",21.1,4\n",
      "8,\"Morris, IL\",UC,\"13,927\",19.3,>10\n",
      "9,\"Sandwich, IL\",UC,\"12,248\",23.9,>10\n",
      "10,\"Braidwood-Coal City, IL\",UC,\"11,607\",19.5,>10\n",
      "11,\"Harvard, IL\",UC,\"8,575\",13.3,>10\n",
      "12,\"Lakes of the Four Seasons, IN\",UC,\"8,450\",12.5,4\n",
      "13,\"Lowell, IN\",UC,\"7,914\",15.8,>10\n",
      "14,\"Wilmington, IL\",UC,\"7,107\",20.8,>10\n",
      "15,\"Manteno, IL\",UC,\"7,106\",9.4,>10\n",
      "16,\"Marengo, IL\",UC,\"6,854\",8.6,>10\n",
      "17,\"Rensselaer, IN\",UC,\"6,096\",10.9,>10\n",
      "18,\"Plano, IL\",UC,\"5,911\",6.5,3\n",
      "19,\"Genoa, IL\",UC,\"5,137\",5.5,>10\n",
      "20,\"Genoa City, WI-IL\",UC,\"5,126\",12.5,>10\n",
      "21,\"Westville, IN\",UC,\"5,077\",4.4,>10\n",
      "22,\"Hebron, IN\",UC,\"4,150\",11.7,>10\n",
      "23,\"Momence, IL\",UC,\"3,711\",9.7,>10\n",
      "24,\"Peotone, IL\",UC,\"3,358\",3.5,9\n",
      "25,\"Wonder Lake, IL\",UC,\"2,798\",2,5\n",
      "26,\"Monee, IL\",UC,\"2,787\",3.7,3\n",
      "27,\"Union Township, Porter County, IN\",UC,\"2,593\",4.9,1\n",
      "28,\"Hampshire, IL\",UC,\"2,591\",2,6\n"
     ]
    }
   ],
   "source": [
    "print data"
   ]
  },
  {
   "cell_type": "markdown",
   "metadata": {},
   "source": [
    "But there's a better way to read in a file based on lines.  There are many ways to read in files and well worth some investigation time.  However, `readlines()` is a very common method for reading in individual lines of a file."
   ]
  },
  {
   "cell_type": "code",
   "execution_count": 85,
   "metadata": {
    "collapsed": true
   },
   "outputs": [],
   "source": [
    "f = open(filename_relative, 'rU')\n",
    "\n",
    "data = f.readlines()"
   ]
  },
  {
   "cell_type": "markdown",
   "metadata": {},
   "source": [
    "Let's take a moment here to comment on the notation system happening.  We can see that f is becoming our open file object.  This object is waiting to be read.  We can then pick whichever reading method we want to perform on it, and then do so via `f.methodname()`.  These methods are functions that we are calling on the objects. "
   ]
  },
  {
   "cell_type": "code",
   "execution_count": 86,
   "metadata": {
    "collapsed": false
   },
   "outputs": [
    {
     "name": "stdout",
     "output_type": "stream",
     "text": [
      "Rank,Urban area,type,Population,Land area,Smallest gap\n",
      "\n",
      "1,\"Chicago-Aurora-Elgin-Joliet-Waukegan, IL-IN\",UA,\"8,307,904\",\"5,498.10\",n/a\n",
      "\n",
      "2,\"Round Lake Beach-McHenry-Grayslake, IL-WI\",UA,\"226,848\",344.9,2\n",
      "\n",
      "3,\"Kenosha, WI\",UA,\"110,942\",109.2,1\n",
      "\n",
      "4,\"Michigan City-LaPorte, IN-MI\",UA,\"66,199\",86.1,3\n",
      "\n",
      "5,\"Kankakee-Bradley-Bourbonnais, IL\",UA,\"65,073\",71.5,>10\n",
      "\n",
      "6,\"DeKalb-Sycamore, IL\",UA,\"55,805\",46.3,>10\n",
      "\n",
      "7,\"Woodstock, IL\",UC,\"20,219\",21.1,4\n",
      "\n",
      "8,\"Morris, IL\",UC,\"13,927\",19.3,>10\n",
      "\n",
      "9,\"Sandwich, IL\",UC,\"12,248\",23.9,>10\n",
      "\n",
      "10,\"Braidwood-Coal City, IL\",UC,\"11,607\",19.5,>10\n",
      "\n",
      "11,\"Harvard, IL\",UC,\"8,575\",13.3,>10\n",
      "\n",
      "12,\"Lakes of the Four Seasons, IN\",UC,\"8,450\",12.5,4\n",
      "\n",
      "13,\"Lowell, IN\",UC,\"7,914\",15.8,>10\n",
      "\n",
      "14,\"Wilmington, IL\",UC,\"7,107\",20.8,>10\n",
      "\n",
      "15,\"Manteno, IL\",UC,\"7,106\",9.4,>10\n",
      "\n",
      "16,\"Marengo, IL\",UC,\"6,854\",8.6,>10\n",
      "\n",
      "17,\"Rensselaer, IN\",UC,\"6,096\",10.9,>10\n",
      "\n",
      "18,\"Plano, IL\",UC,\"5,911\",6.5,3\n",
      "\n",
      "19,\"Genoa, IL\",UC,\"5,137\",5.5,>10\n",
      "\n",
      "20,\"Genoa City, WI-IL\",UC,\"5,126\",12.5,>10\n",
      "\n",
      "21,\"Westville, IN\",UC,\"5,077\",4.4,>10\n",
      "\n",
      "22,\"Hebron, IN\",UC,\"4,150\",11.7,>10\n",
      "\n",
      "23,\"Momence, IL\",UC,\"3,711\",9.7,>10\n",
      "\n",
      "24,\"Peotone, IL\",UC,\"3,358\",3.5,9\n",
      "\n",
      "25,\"Wonder Lake, IL\",UC,\"2,798\",2,5\n",
      "\n",
      "26,\"Monee, IL\",UC,\"2,787\",3.7,3\n",
      "\n",
      "27,\"Union Township, Porter County, IN\",UC,\"2,593\",4.9,1\n",
      "\n",
      "28,\"Hampshire, IL\",UC,\"2,591\",2,6\n"
     ]
    }
   ],
   "source": [
    "for e in data:\n",
    "    print e"
   ]
  },
  {
   "cell_type": "markdown",
   "metadata": {},
   "source": [
    "Check out those extra blank lines.  This can be an artifact from coming in from Excel.  When you see this, use `strip()` to clean things up.  This function cleans off any white space characters from both the left and the right of a line of text.  There are also `rstrip()` and `lstrip()` in case those would be useful."
   ]
  },
  {
   "cell_type": "code",
   "execution_count": 73,
   "metadata": {
    "collapsed": false
   },
   "outputs": [
    {
     "name": "stdout",
     "output_type": "stream",
     "text": [
      "Rank,Urban area,type,Population,Land area,Smallest gap\n",
      "1,\"Chicago-Aurora-Elgin-Joliet-Waukegan, IL-IN\",UA,\"8,307,904\",\"5,498.10\",n/a\n",
      "2,\"Round Lake Beach-McHenry-Grayslake, IL-WI\",UA,\"226,848\",344.9,2\n",
      "3,\"Kenosha, WI\",UA,\"110,942\",109.2,1\n",
      "4,\"Michigan City-LaPorte, IN-MI\",UA,\"66,199\",86.1,3\n",
      "5,\"Kankakee-Bradley-Bourbonnais, IL\",UA,\"65,073\",71.5,>10\n",
      "6,\"DeKalb-Sycamore, IL\",UA,\"55,805\",46.3,>10\n",
      "7,\"Woodstock, IL\",UC,\"20,219\",21.1,4\n",
      "8,\"Morris, IL\",UC,\"13,927\",19.3,>10\n",
      "9,\"Sandwich, IL\",UC,\"12,248\",23.9,>10\n",
      "10,\"Braidwood-Coal City, IL\",UC,\"11,607\",19.5,>10\n",
      "11,\"Harvard, IL\",UC,\"8,575\",13.3,>10\n",
      "12,\"Lakes of the Four Seasons, IN\",UC,\"8,450\",12.5,4\n",
      "13,\"Lowell, IN\",UC,\"7,914\",15.8,>10\n",
      "14,\"Wilmington, IL\",UC,\"7,107\",20.8,>10\n",
      "15,\"Manteno, IL\",UC,\"7,106\",9.4,>10\n",
      "16,\"Marengo, IL\",UC,\"6,854\",8.6,>10\n",
      "17,\"Rensselaer, IN\",UC,\"6,096\",10.9,>10\n",
      "18,\"Plano, IL\",UC,\"5,911\",6.5,3\n",
      "19,\"Genoa, IL\",UC,\"5,137\",5.5,>10\n",
      "20,\"Genoa City, WI-IL\",UC,\"5,126\",12.5,>10\n",
      "21,\"Westville, IN\",UC,\"5,077\",4.4,>10\n",
      "22,\"Hebron, IN\",UC,\"4,150\",11.7,>10\n",
      "23,\"Momence, IL\",UC,\"3,711\",9.7,>10\n",
      "24,\"Peotone, IL\",UC,\"3,358\",3.5,9\n",
      "25,\"Wonder Lake, IL\",UC,\"2,798\",2,5\n",
      "26,\"Monee, IL\",UC,\"2,787\",3.7,3\n",
      "27,\"Union Township, Porter County, IN\",UC,\"2,593\",4.9,1\n",
      "28,\"Hampshire, IL\",UC,\"2,591\",2,6\n"
     ]
    }
   ],
   "source": [
    "for e in data:\n",
    "    print e.strip()"
   ]
  },
  {
   "cell_type": "markdown",
   "metadata": {},
   "source": [
    "## Opening and reading a CSV file"
   ]
  },
  {
   "cell_type": "markdown",
   "metadata": {},
   "source": [
    "When we're opening a CSV file, we should import the CSV module.  This brings in the CSV helper functions.  These modules know what a CSV is, how text should be sanitized, etc.  You *can* do this yourself.........but you don't want to.  Just use the CSV module.\n",
    "\n",
    "Do you have data with lots of unicode text and in Python 2?  Install the `unicodecsv` package from pypi: https://pypi.python.org/pypi/unicodecsv.\n",
    "\n",
    "`pip install unicodecsv`"
   ]
  },
  {
   "cell_type": "code",
   "execution_count": 3,
   "metadata": {
    "collapsed": true
   },
   "outputs": [],
   "source": [
    "import csv"
   ]
  },
  {
   "cell_type": "markdown",
   "metadata": {},
   "source": [
    "We can now call the csv module functions by appending them to `csv`.\n",
    "\n",
    "The two core functions you'll use are:\n",
    "* `csv.reader(file object)` to create a reading object\n",
    "* `csv.writer(file object` to create a writing object.\n",
    "\n",
    "When we write files we use these two functions:\n",
    "\n",
    "* `writerow(row)` to write a single row\n",
    "* `writerows(list of lists)` to write many rows"
   ]
  },
  {
   "cell_type": "markdown",
   "metadata": {},
   "source": [
    "Below are some basic formulas for reading in data.  Many of these formulas came from chapter 6 of the [Python Cookbook (third edition)](http://chimera.labs.oreilly.com/books/1230000000393).  Not all of this syntax will make sense, but just treat it as a formula for now.  Things will make more sense as you learn more about Python.\n",
    "\n",
    "You can read the chapter for free here:  http://chimera.labs.oreilly.com/books/1230000000393/ch06.html"
   ]
  },
  {
   "cell_type": "code",
   "execution_count": 5,
   "metadata": {
    "collapsed": false
   },
   "outputs": [],
   "source": [
    "with open('chicacoCSA.csv', 'rU') as file_in:\n",
    "    file_in = csv.reader(file_in)\n",
    "    headers = next(file_in)\n",
    "    data = []\n",
    "    for line in file_in:\n",
    "        data.append(line)"
   ]
  },
  {
   "cell_type": "code",
   "execution_count": 6,
   "metadata": {
    "collapsed": false
   },
   "outputs": [
    {
     "name": "stdout",
     "output_type": "stream",
     "text": [
      "['1', 'Chicago-Aurora-Elgin-Joliet-Waukegan, IL-IN', 'UA', '8,307,904', '5,498.10', 'n/a']\n",
      "['2', 'Round Lake Beach-McHenry-Grayslake, IL-WI', 'UA', '226,848', '344.9', '2']\n",
      "['3', 'Kenosha, WI', 'UA', '110,942', '109.2', '1']\n",
      "['4', 'Michigan City-LaPorte, IN-MI', 'UA', '66,199', '86.1', '3']\n",
      "['5', 'Kankakee-Bradley-Bourbonnais, IL', 'UA', '65,073', '71.5', '>10']\n",
      "['6', 'DeKalb-Sycamore, IL', 'UA', '55,805', '46.3', '>10']\n",
      "['7', 'Woodstock, IL', 'UC', '20,219', '21.1', '4']\n",
      "['8', 'Morris, IL', 'UC', '13,927', '19.3', '>10']\n",
      "['9', 'Sandwich, IL', 'UC', '12,248', '23.9', '>10']\n",
      "['10', 'Braidwood-Coal City, IL', 'UC', '11,607', '19.5', '>10']\n",
      "['11', 'Harvard, IL', 'UC', '8,575', '13.3', '>10']\n",
      "['12', 'Lakes of the Four Seasons, IN', 'UC', '8,450', '12.5', '4']\n",
      "['13', 'Lowell, IN', 'UC', '7,914', '15.8', '>10']\n",
      "['14', 'Wilmington, IL', 'UC', '7,107', '20.8', '>10']\n",
      "['15', 'Manteno, IL', 'UC', '7,106', '9.4', '>10']\n",
      "['16', 'Marengo, IL', 'UC', '6,854', '8.6', '>10']\n",
      "['17', 'Rensselaer, IN', 'UC', '6,096', '10.9', '>10']\n",
      "['18', 'Plano, IL', 'UC', '5,911', '6.5', '3']\n",
      "['19', 'Genoa, IL', 'UC', '5,137', '5.5', '>10']\n",
      "['20', 'Genoa City, WI-IL', 'UC', '5,126', '12.5', '>10']\n",
      "['21', 'Westville, IN', 'UC', '5,077', '4.4', '>10']\n",
      "['22', 'Hebron, IN', 'UC', '4,150', '11.7', '>10']\n",
      "['23', 'Momence, IL', 'UC', '3,711', '9.7', '>10']\n",
      "['24', 'Peotone, IL', 'UC', '3,358', '3.5', '9']\n",
      "['25', 'Wonder Lake, IL', 'UC', '2,798', '2', '5']\n",
      "['26', 'Monee, IL', 'UC', '2,787', '3.7', '3']\n",
      "['27', 'Union Township, Porter County, IN', 'UC', '2,593', '4.9', '1']\n",
      "['28', 'Hampshire, IL', 'UC', '2,591', '2', '6']\n"
     ]
    }
   ],
   "source": [
    "for l in data:\n",
    "    print l"
   ]
  },
  {
   "cell_type": "markdown",
   "metadata": {
    "collapsed": true
   },
   "source": [
    "Now this looks like something we can start dealing with.  Each row is coming in as a list, with each cell value as an element within that Nth corresponding position.  Let's do some quick sanity checking."
   ]
  },
  {
   "cell_type": "code",
   "execution_count": 7,
   "metadata": {
    "collapsed": false
   },
   "outputs": [
    {
     "name": "stdout",
     "output_type": "stream",
     "text": [
      "6\n",
      "6\n",
      "6\n",
      "6\n",
      "6\n",
      "6\n",
      "6\n",
      "6\n",
      "6\n",
      "6\n",
      "6\n",
      "6\n",
      "6\n",
      "6\n",
      "6\n",
      "6\n",
      "6\n",
      "6\n",
      "6\n",
      "6\n",
      "6\n",
      "6\n",
      "6\n",
      "6\n",
      "6\n",
      "6\n",
      "6\n",
      "6\n"
     ]
    }
   ],
   "source": [
    "# is each row the same length...\n",
    "\n",
    "for row in data:\n",
    "    print len(row)"
   ]
  },
  {
   "cell_type": "code",
   "execution_count": 9,
   "metadata": {
    "collapsed": false
   },
   "outputs": [
    {
     "name": "stdout",
     "output_type": "stream",
     "text": [
      "Chicago-Aurora-Elgin-Joliet-Waukegan, IL-IN\n",
      "Round Lake Beach-McHenry-Grayslake, IL-WI\n",
      "Kenosha, WI\n",
      "Michigan City-LaPorte, IN-MI\n",
      "Kankakee-Bradley-Bourbonnais, IL\n",
      "DeKalb-Sycamore, IL\n",
      "Woodstock, IL\n",
      "Morris, IL\n",
      "Sandwich, IL\n",
      "Braidwood-Coal City, IL\n",
      "Harvard, IL\n",
      "Lakes of the Four Seasons, IN\n",
      "Lowell, IN\n",
      "Wilmington, IL\n",
      "Manteno, IL\n",
      "Marengo, IL\n",
      "Rensselaer, IN\n",
      "Plano, IL\n",
      "Genoa, IL\n",
      "Genoa City, WI-IL\n",
      "Westville, IN\n",
      "Hebron, IN\n",
      "Momence, IL\n",
      "Peotone, IL\n",
      "Wonder Lake, IL\n",
      "Monee, IL\n",
      "Union Township, Porter County, IN\n",
      "Hampshire, IL\n"
     ]
    }
   ],
   "source": [
    "# Looks good!  Now, we can loop through and get all the city names...\n",
    "\n",
    "for row in data:\n",
    "    print row[1]"
   ]
  },
  {
   "cell_type": "markdown",
   "metadata": {},
   "source": [
    "Again, there are many ways to get at the data from a CSV file.  Take some time to experiment with a few other techniques.  You'll find your comfort zone.  What I've shown here is one of the simplest possible mechanisms.  There are more advanced methods for more complex data."
   ]
  },
  {
   "cell_type": "markdown",
   "metadata": {},
   "source": [
    "## Switching gears..."
   ]
  },
  {
   "cell_type": "markdown",
   "metadata": {},
   "source": [
    "At this point we've looked at how to work with lists and read in a CSV into a list of lists.  This means that we can get into a CSV file and access data columns within it.  Let's take another file with free text city names.  Let's work on writing a script that will loop through all the city names, lookup the coordinates for those places, and then output the results into a new file.\n",
    "\n",
    "We can make a rough outline of our program...\n",
    "\n",
    "* Read in the file\n",
    "* Get to the city names\n",
    "* Run those city names through our Open Street Map tool\n",
    "* Save those values\n",
    "* Output a new file\n",
    "\n",
    "We already know how to do the first two tasks:  open the file and get to the city names.  What we need to work on next is a way to run those values through the Open Street Map nominatim tool."
   ]
  },
  {
   "cell_type": "markdown",
   "metadata": {},
   "source": [
    "# Playing with `nominatim`"
   ]
  },
  {
   "cell_type": "markdown",
   "metadata": {},
   "source": [
    "Before we can plug this tool into a script we need to take some time getting to know how it works.  The best place to start is to replicate what's in the documentation: https://github.com/damianbraun/nominatim"
   ]
  },
  {
   "cell_type": "code",
   "execution_count": 1,
   "metadata": {
    "collapsed": false
   },
   "outputs": [],
   "source": [
    "from IPython.display import HTML"
   ]
  },
  {
   "cell_type": "code",
   "execution_count": 7,
   "metadata": {
    "collapsed": false
   },
   "outputs": [],
   "source": [
    "#HTML('https://github.com/damianbraun/nominatim/blob/master/README.md')"
   ]
  },
  {
   "cell_type": "markdown",
   "metadata": {},
   "source": [
    "Everyone should have already installed this from our setup time.  Go ahead and try this:"
   ]
  },
  {
   "cell_type": "code",
   "execution_count": 4,
   "metadata": {
    "collapsed": false
   },
   "outputs": [],
   "source": [
    "from nominatim import Nominatim #importing the module\n",
    "nom = Nominatim() # instantiation of a Nominatim object.\n",
    "result =  nom.query('Springfield, IL') # act on this object, by doing a query"
   ]
  },
  {
   "cell_type": "code",
   "execution_count": 6,
   "metadata": {
    "collapsed": false
   },
   "outputs": [
    {
     "name": "stdout",
     "output_type": "stream",
     "text": [
      "[{u'display_name': u'Springfield, Sangamon County, Illinois, United States of America', u'importance': 0.75119258847715, u'place_id': u'127637285', u'lon': u'-89.6443688', u'lat': u'39.7989763', u'osm_type': u'relation', u'licence': u'Data \\xa9 OpenStreetMap contributors, ODbL 1.0. http://www.openstreetmap.org/copyright', u'osm_id': u'126326', u'boundingbox': [u'39.653656', u'39.87417', u'-89.7731819', u'-89.5685099'], u'type': u'city', u'class': u'place', u'icon': u'http://nominatim.openstreetmap.org/images/mapicons/poi_place_city.p.20.png'}, {u'display_name': u'Springfield, Hampden County, Massachusetts, United States of America', u'importance': 0.63955653973518, u'place_id': u'127723820', u'lon': u'-72.5467136595821', u'lat': u'42.11241225', u'osm_type': u'relation', u'licence': u'Data \\xa9 OpenStreetMap contributors, ODbL 1.0. http://www.openstreetmap.org/copyright', u'osm_id': u'1181618', u'boundingbox': [u'42.0637364', u'42.1622195', u'-72.6221575', u'-72.4710869'], u'type': u'city', u'class': u'place', u'icon': u'http://nominatim.openstreetmap.org/images/mapicons/poi_place_city.p.20.png'}, {u'display_name': u'Springfield, Greene County, Missouri, United States of America', u'importance': 0.61235218297741, u'place_id': u'127771207', u'lon': u'-93.2982521', u'lat': u'37.2153307', u'osm_type': u'relation', u'licence': u'Data \\xa9 OpenStreetMap contributors, ODbL 1.0. http://www.openstreetmap.org/copyright', u'osm_id': u'141244', u'boundingbox': [u'37.087402', u'37.271089', u'-93.4140038', u'-93.1797158'], u'type': u'city', u'class': u'place', u'icon': u'http://nominatim.openstreetmap.org/images/mapicons/poi_place_city.p.20.png'}, {u'display_name': u'Springfield, Clark County, Ohio, United States of America', u'importance': 0.56683563514305, u'place_id': u'127430595', u'lon': u'-83.8088172', u'lat': u'39.9242266', u'osm_type': u'relation', u'licence': u'Data \\xa9 OpenStreetMap contributors, ODbL 1.0. http://www.openstreetmap.org/copyright', u'osm_id': u'182868', u'boundingbox': [u'39.887855', u'39.982857', u'-83.8696619', u'-83.7034239'], u'type': u'city', u'class': u'place', u'icon': u'http://nominatim.openstreetmap.org/images/mapicons/poi_place_city.p.20.png'}, {u'display_name': u'Springfield, Lane County, Oregon, United States of America', u'importance': 0.53688780577389, u'place_id': u'127768947', u'lon': u'-123.0220289', u'lat': u'44.0462362', u'osm_type': u'relation', u'licence': u'Data \\xa9 OpenStreetMap contributors, ODbL 1.0. http://www.openstreetmap.org/copyright', u'osm_id': u'186721', u'boundingbox': [u'44.0224852', u'44.0949559', u'-123.0500744', u'-122.8789825'], u'type': u'city', u'class': u'place', u'icon': u'http://nominatim.openstreetmap.org/images/mapicons/poi_place_city.p.20.png'}, {u'display_name': u'Springfield, Fairfax County, Virginia, United States of America', u'importance': 0.49865236003439, u'place_id': u'127455252', u'lon': u'-77.1870368', u'lat': u'38.7890522', u'osm_type': u'relation', u'licence': u'Data \\xa9 OpenStreetMap contributors, ODbL 1.0. http://www.openstreetmap.org/copyright', u'osm_id': u'206834', u'boundingbox': [u'38.7380868', u'38.815393', u'-77.2189469', u'-77.1344909'], u'type': u'administrative', u'class': u'boundary', u'icon': u'http://nominatim.openstreetmap.org/images/mapicons/poi_boundary_administrative.p.20.png'}, {u'display_name': u'Springfield, Washington County, Kentucky, United States of America', u'importance': 0.47473979407787, u'place_id': u'127754158', u'lon': u'-85.2221819', u'lat': u'37.6853413', u'osm_type': u'relation', u'licence': u'Data \\xa9 OpenStreetMap contributors, ODbL 1.0. http://www.openstreetmap.org/copyright', u'osm_id': u'130835', u'boundingbox': [u'37.670609', u'37.711215', u'-85.2458999', u'-85.1839109'], u'type': u'city', u'class': u'place', u'icon': u'http://nominatim.openstreetmap.org/images/mapicons/poi_place_city.p.20.png'}, {u'display_name': u'Springfield, Bon Homme County, South Dakota, United States of America', u'importance': 0.47473979407787, u'place_id': u'127770318', u'lon': u'-97.8972907', u'lat': u'42.8541658', u'osm_type': u'relation', u'licence': u'Data \\xa9 OpenStreetMap contributors, ODbL 1.0. http://www.openstreetmap.org/copyright', u'osm_id': u'194863', u'boundingbox': [u'42.842414', u'42.887307', u'-97.9057459', u'-97.8845059'], u'type': u'city', u'class': u'place', u'icon': u'http://nominatim.openstreetmap.org/images/mapicons/poi_place_city.p.20.png'}, {u'display_name': u'Springfield, Windsor County, Vermont, United States of America', u'importance': 0.46497609677909, u'place_id': u'127890820', u'lon': u'-72.4823118', u'lat': u'43.2984078', u'osm_type': u'relation', u'licence': u'Data \\xa9 OpenStreetMap contributors, ODbL 1.0. http://www.openstreetmap.org/copyright', u'osm_id': u'2027202', u'boundingbox': [u'43.2333061', u'43.3452496', u'-72.5499028', u'-72.3952382'], u'type': u'administrative', u'class': u'boundary', u'icon': u'http://nominatim.openstreetmap.org/images/mapicons/poi_boundary_administrative.p.20.png'}, {u'display_name': u'Springfield, Sullivan County, New Hampshire, United States of America', u'importance': 0.4421866047208, u'place_id': u'127933844', u'lon': u'-72.0334187', u'lat': u'43.4950735', u'osm_type': u'relation', u'licence': u'Data \\xa9 OpenStreetMap contributors, ODbL 1.0. http://www.openstreetmap.org/copyright', u'osm_id': u'2016818', u'boundingbox': [u'43.4369541', u'43.553284', u'-72.1153016', u'-71.9351118'], u'type': u'administrative', u'class': u'boundary', u'icon': u'http://nominatim.openstreetmap.org/images/mapicons/poi_boundary_administrative.p.20.png'}]\n"
     ]
    }
   ],
   "source": [
    "print result"
   ]
  },
  {
   "cell_type": "markdown",
   "metadata": {
    "collapsed": true
   },
   "source": [
    "That's a bunch of stuff!  We need to dig in to see the data structure though.  Here we're going to meet the other container type: the dictionary.\n",
    "\n",
    "First, let's see what it is returning to us."
   ]
  },
  {
   "cell_type": "code",
   "execution_count": 7,
   "metadata": {
    "collapsed": false
   },
   "outputs": [
    {
     "name": "stdout",
     "output_type": "stream",
     "text": [
      "<type 'list'>\n"
     ]
    }
   ],
   "source": [
    "print type(result)"
   ]
  },
  {
   "cell_type": "markdown",
   "metadata": {},
   "source": [
    "So this is a list, and we can see that by the opening and closing square brackets.  Let's look at an easy way to see what's inside of a list."
   ]
  },
  {
   "cell_type": "code",
   "execution_count": 8,
   "metadata": {
    "collapsed": false
   },
   "outputs": [
    {
     "name": "stdout",
     "output_type": "stream",
     "text": [
      "10\n"
     ]
    }
   ],
   "source": [
    "# how long is it?\n",
    "\n",
    "print len(result)"
   ]
  },
  {
   "cell_type": "code",
   "execution_count": 10,
   "metadata": {
    "collapsed": false
   },
   "outputs": [
    {
     "name": "stdout",
     "output_type": "stream",
     "text": [
      "{u'display_name': u'Springfield, Sangamon County, Illinois, United States of America', u'importance': 0.75119258847715, u'place_id': u'127637285', u'lon': u'-89.6443688', u'lat': u'39.7989763', u'osm_type': u'relation', u'licence': u'Data \\xa9 OpenStreetMap contributors, ODbL 1.0. http://www.openstreetmap.org/copyright', u'osm_id': u'126326', u'boundingbox': [u'39.653656', u'39.87417', u'-89.7731819', u'-89.5685099'], u'type': u'city', u'class': u'place', u'icon': u'http://nominatim.openstreetmap.org/images/mapicons/poi_place_city.p.20.png'}\n",
      "{u'display_name': u'Springfield, Hampden County, Massachusetts, United States of America', u'importance': 0.63955653973518, u'place_id': u'127723820', u'lon': u'-72.5467136595821', u'lat': u'42.11241225', u'osm_type': u'relation', u'licence': u'Data \\xa9 OpenStreetMap contributors, ODbL 1.0. http://www.openstreetmap.org/copyright', u'osm_id': u'1181618', u'boundingbox': [u'42.0637364', u'42.1622195', u'-72.6221575', u'-72.4710869'], u'type': u'city', u'class': u'place', u'icon': u'http://nominatim.openstreetmap.org/images/mapicons/poi_place_city.p.20.png'}\n",
      "{u'display_name': u'Springfield, Greene County, Missouri, United States of America', u'importance': 0.61235218297741, u'place_id': u'127771207', u'lon': u'-93.2982521', u'lat': u'37.2153307', u'osm_type': u'relation', u'licence': u'Data \\xa9 OpenStreetMap contributors, ODbL 1.0. http://www.openstreetmap.org/copyright', u'osm_id': u'141244', u'boundingbox': [u'37.087402', u'37.271089', u'-93.4140038', u'-93.1797158'], u'type': u'city', u'class': u'place', u'icon': u'http://nominatim.openstreetmap.org/images/mapicons/poi_place_city.p.20.png'}\n",
      "{u'display_name': u'Springfield, Clark County, Ohio, United States of America', u'importance': 0.56683563514305, u'place_id': u'127430595', u'lon': u'-83.8088172', u'lat': u'39.9242266', u'osm_type': u'relation', u'licence': u'Data \\xa9 OpenStreetMap contributors, ODbL 1.0. http://www.openstreetmap.org/copyright', u'osm_id': u'182868', u'boundingbox': [u'39.887855', u'39.982857', u'-83.8696619', u'-83.7034239'], u'type': u'city', u'class': u'place', u'icon': u'http://nominatim.openstreetmap.org/images/mapicons/poi_place_city.p.20.png'}\n",
      "{u'display_name': u'Springfield, Lane County, Oregon, United States of America', u'importance': 0.53688780577389, u'place_id': u'127768947', u'lon': u'-123.0220289', u'lat': u'44.0462362', u'osm_type': u'relation', u'licence': u'Data \\xa9 OpenStreetMap contributors, ODbL 1.0. http://www.openstreetmap.org/copyright', u'osm_id': u'186721', u'boundingbox': [u'44.0224852', u'44.0949559', u'-123.0500744', u'-122.8789825'], u'type': u'city', u'class': u'place', u'icon': u'http://nominatim.openstreetmap.org/images/mapicons/poi_place_city.p.20.png'}\n",
      "{u'display_name': u'Springfield, Fairfax County, Virginia, United States of America', u'importance': 0.49865236003439, u'place_id': u'127455252', u'lon': u'-77.1870368', u'lat': u'38.7890522', u'osm_type': u'relation', u'licence': u'Data \\xa9 OpenStreetMap contributors, ODbL 1.0. http://www.openstreetmap.org/copyright', u'osm_id': u'206834', u'boundingbox': [u'38.7380868', u'38.815393', u'-77.2189469', u'-77.1344909'], u'type': u'administrative', u'class': u'boundary', u'icon': u'http://nominatim.openstreetmap.org/images/mapicons/poi_boundary_administrative.p.20.png'}\n",
      "{u'display_name': u'Springfield, Washington County, Kentucky, United States of America', u'importance': 0.47473979407787, u'place_id': u'127754158', u'lon': u'-85.2221819', u'lat': u'37.6853413', u'osm_type': u'relation', u'licence': u'Data \\xa9 OpenStreetMap contributors, ODbL 1.0. http://www.openstreetmap.org/copyright', u'osm_id': u'130835', u'boundingbox': [u'37.670609', u'37.711215', u'-85.2458999', u'-85.1839109'], u'type': u'city', u'class': u'place', u'icon': u'http://nominatim.openstreetmap.org/images/mapicons/poi_place_city.p.20.png'}\n",
      "{u'display_name': u'Springfield, Bon Homme County, South Dakota, United States of America', u'importance': 0.47473979407787, u'place_id': u'127770318', u'lon': u'-97.8972907', u'lat': u'42.8541658', u'osm_type': u'relation', u'licence': u'Data \\xa9 OpenStreetMap contributors, ODbL 1.0. http://www.openstreetmap.org/copyright', u'osm_id': u'194863', u'boundingbox': [u'42.842414', u'42.887307', u'-97.9057459', u'-97.8845059'], u'type': u'city', u'class': u'place', u'icon': u'http://nominatim.openstreetmap.org/images/mapicons/poi_place_city.p.20.png'}\n",
      "{u'display_name': u'Springfield, Windsor County, Vermont, United States of America', u'importance': 0.46497609677909, u'place_id': u'127890820', u'lon': u'-72.4823118', u'lat': u'43.2984078', u'osm_type': u'relation', u'licence': u'Data \\xa9 OpenStreetMap contributors, ODbL 1.0. http://www.openstreetmap.org/copyright', u'osm_id': u'2027202', u'boundingbox': [u'43.2333061', u'43.3452496', u'-72.5499028', u'-72.3952382'], u'type': u'administrative', u'class': u'boundary', u'icon': u'http://nominatim.openstreetmap.org/images/mapicons/poi_boundary_administrative.p.20.png'}\n",
      "{u'display_name': u'Springfield, Sullivan County, New Hampshire, United States of America', u'importance': 0.4421866047208, u'place_id': u'127933844', u'lon': u'-72.0334187', u'lat': u'43.4950735', u'osm_type': u'relation', u'licence': u'Data \\xa9 OpenStreetMap contributors, ODbL 1.0. http://www.openstreetmap.org/copyright', u'osm_id': u'2016818', u'boundingbox': [u'43.4369541', u'43.553284', u'-72.1153016', u'-71.9351118'], u'type': u'administrative', u'class': u'boundary', u'icon': u'http://nominatim.openstreetmap.org/images/mapicons/poi_boundary_administrative.p.20.png'}\n"
     ]
    }
   ],
   "source": [
    "# so there are 10 things in here...\n",
    "\n",
    "# let's look at this using how we know to loop through lists\n",
    "\n",
    "for each in result:\n",
    "    print each"
   ]
  },
  {
   "cell_type": "code",
   "execution_count": 12,
   "metadata": {
    "collapsed": false
   },
   "outputs": [
    {
     "name": "stdout",
     "output_type": "stream",
     "text": [
      "<type 'dict'>\n",
      "<type 'dict'>\n",
      "<type 'dict'>\n",
      "<type 'dict'>\n",
      "<type 'dict'>\n",
      "<type 'dict'>\n",
      "<type 'dict'>\n",
      "<type 'dict'>\n",
      "<type 'dict'>\n",
      "<type 'dict'>\n"
     ]
    }
   ],
   "source": [
    "# But what are these things?\n",
    "\n",
    "for each in result:\n",
    "    print type(each)"
   ]
  },
  {
   "cell_type": "markdown",
   "metadata": {},
   "source": [
    "Dictionaries, or `dict`s, are container-like objects but don't work at all like `list`s.  `dict`s are key/value pairs, almost like mini databases.  For example, we know that cities have properties like latitude and longitude.  Instead of storing these in specific positions we can name those values so we can look them up directly.\n",
    "\n",
    "For example, we could say this:"
   ]
  },
  {
   "cell_type": "code",
   "execution_count": 13,
   "metadata": {
    "collapsed": true
   },
   "outputs": [],
   "source": [
    "springfield = {'lat': '39.7989763', 'lon': '-89.6443688'}"
   ]
  },
  {
   "cell_type": "markdown",
   "metadata": {},
   "source": [
    "Let's look a this syntax.  A `dict` is stored withthin a pair of curly brackets {}.  Keys and values are separated by a colon, with the key on the left and the value on the right.  The `springfield` dictionary above has two key/value pairs.\n",
    "\n",
    "We can access these values with a notation somewhat similar to looking things up in a list.  The name of the key goes inside square brackets after the name of the variable.  Note that I did have to include the quotes for the key names because they are strings.  You can use any object as a key, but remember that you do need to look it up later.\n",
    "\n",
    "Ever used JSON or need to?  You'll interact with that data format much like working with a Python dictionary."
   ]
  },
  {
   "cell_type": "code",
   "execution_count": 14,
   "metadata": {
    "collapsed": false
   },
   "outputs": [
    {
     "name": "stdout",
     "output_type": "stream",
     "text": [
      "39.7989763\n"
     ]
    }
   ],
   "source": [
    "print springfield['lat']"
   ]
  },
  {
   "cell_type": "code",
   "execution_count": 15,
   "metadata": {
    "collapsed": false
   },
   "outputs": [
    {
     "name": "stdout",
     "output_type": "stream",
     "text": [
      "-89.6443688\n"
     ]
    }
   ],
   "source": [
    "print springfield['lon']"
   ]
  },
  {
   "cell_type": "markdown",
   "metadata": {},
   "source": [
    "Now that we know a little bit better about how to read a dictionary, we can take a closer look at the first result coming in for Springfield.  Remember the index notation to look up items in a list."
   ]
  },
  {
   "cell_type": "code",
   "execution_count": 18,
   "metadata": {
    "collapsed": false
   },
   "outputs": [
    {
     "name": "stdout",
     "output_type": "stream",
     "text": [
      "{u'display_name': u'Springfield, Sangamon County, Illinois, United States of America', u'importance': 0.75119258847715, u'place_id': u'127637285', u'lon': u'-89.6443688', u'lat': u'39.7989763', u'osm_type': u'relation', u'licence': u'Data \\xa9 OpenStreetMap contributors, ODbL 1.0. http://www.openstreetmap.org/copyright', u'osm_id': u'126326', u'boundingbox': [u'39.653656', u'39.87417', u'-89.7731819', u'-89.5685099'], u'type': u'city', u'class': u'place', u'icon': u'http://nominatim.openstreetmap.org/images/mapicons/poi_place_city.p.20.png'}\n"
     ]
    }
   ],
   "source": [
    "print result[0]\n",
    "\n",
    "first_result = result[0]"
   ]
  },
  {
   "cell_type": "code",
   "execution_count": 19,
   "metadata": {
    "collapsed": false
   },
   "outputs": [
    {
     "name": "stdout",
     "output_type": "stream",
     "text": [
      "display_name\n",
      "importance\n",
      "place_id\n",
      "lon\n",
      "lat\n",
      "osm_type\n",
      "licence\n",
      "osm_id\n",
      "boundingbox\n",
      "type\n",
      "class\n",
      "icon\n"
     ]
    }
   ],
   "source": [
    "# can we make this more readable?\n",
    "\n",
    "for each in first_result:\n",
    "    print each"
   ]
  },
  {
   "cell_type": "code",
   "execution_count": 23,
   "metadata": {
    "collapsed": false
   },
   "outputs": [
    {
     "name": "stdout",
     "output_type": "stream",
     "text": [
      "display_name :  Springfield, Sangamon County, Illinois, United States of America\n",
      "importance :  0.751192588477\n",
      "place_id :  127637285\n",
      "lon :  -89.6443688\n",
      "lat :  39.7989763\n",
      "osm_type :  relation\n",
      "licence :  Data © OpenStreetMap contributors, ODbL 1.0. http://www.openstreetmap.org/copyright\n",
      "osm_id :  126326\n",
      "boundingbox :  [u'39.653656', u'39.87417', u'-89.7731819', u'-89.5685099']\n",
      "type :  city\n",
      "class :  place\n",
      "icon :  http://nominatim.openstreetmap.org/images/mapicons/poi_place_city.p.20.png\n"
     ]
    }
   ],
   "source": [
    "# So that will print the key names, can we get the values?\n",
    "# note that I don't have to put key in quotes because it is holding the full object value\n",
    "\n",
    "for key in first_result:\n",
    "    print key, \": \", first_result[key]"
   ]
  },
  {
   "cell_type": "markdown",
   "metadata": {},
   "source": [
    "This is helpful.  We can see the key values on the left along with the example values next to that.  Looks like we can get the lat and lon values from keys called `'lat'` and `'lon'`.  Let's try that now."
   ]
  },
  {
   "cell_type": "code",
   "execution_count": 24,
   "metadata": {
    "collapsed": false
   },
   "outputs": [
    {
     "name": "stdout",
     "output_type": "stream",
     "text": [
      "39.7989763 -89.6443688\n"
     ]
    }
   ],
   "source": [
    "print first_result['lat'], first_result['lon']"
   ]
  },
  {
   "cell_type": "markdown",
   "metadata": {},
   "source": [
    "The nominatim package will return a list of results for your text query, with the best hit being the first in the list.  Once we have this first result, we can extract information from it.  Let's put this all together."
   ]
  },
  {
   "cell_type": "code",
   "execution_count": 26,
   "metadata": {
    "collapsed": false
   },
   "outputs": [
    {
     "name": "stdout",
     "output_type": "stream",
     "text": [
      "Springfield, Sangamon County, Illinois, United States of America\n",
      "39.7989763 -89.6443688\n"
     ]
    }
   ],
   "source": [
    "first = result[0]\n",
    "name = first['display_name']\n",
    "lat = first['lat']\n",
    "lon = first['lon']\n",
    "\n",
    "print name\n",
    "print lat, lon"
   ]
  },
  {
   "cell_type": "markdown",
   "metadata": {},
   "source": [
    "But what happens when we want to do this systematically?  Say, we have a list of 800 city names and we want to gather the lat/lon results for them all?  What will really help us is writing a function.  These allow us to custom define a series of commands that we can call as needed.  Functions can take input and return output."
   ]
  },
  {
   "cell_type": "code",
   "execution_count": 31,
   "metadata": {
    "collapsed": true
   },
   "outputs": [],
   "source": [
    "def get_lat_lon(nom_results):\n",
    "    first = nom_results[0]  #get the first result\n",
    "    lat = first['lat']\n",
    "    lon = first['lon']\n",
    "    return {'lat': lat, 'lon': lon} "
   ]
  },
  {
   "cell_type": "code",
   "execution_count": 32,
   "metadata": {
    "collapsed": false
   },
   "outputs": [
    {
     "data": {
      "text/plain": [
       "{'lat': u'39.7989763', 'lon': u'-89.6443688'}"
      ]
     },
     "execution_count": 32,
     "metadata": {},
     "output_type": "execute_result"
    }
   ],
   "source": [
    "# so we can throw the query command into this function and get what we want\n",
    "\n",
    "get_lat_lon(nom.query(\"springfield, IL\"))"
   ]
  },
  {
   "cell_type": "markdown",
   "metadata": {},
   "source": [
    "The data are being returned as a dictionary, so we can access the values by name.\n",
    "\n",
    "Let's put all this together into a basic script."
   ]
  },
  {
   "cell_type": "code",
   "execution_count": 33,
   "metadata": {
    "collapsed": false
   },
   "outputs": [
    {
     "name": "stdout",
     "output_type": "stream",
     "text": [
      "40.1164205 -88.2433829\n",
      "39.7989763 -89.6443688\n",
      "40.4731073 -88.9941403\n"
     ]
    }
   ],
   "source": [
    "from nominatim import Nominatim\n",
    "\n",
    "def get_lat_lon(nom_results):\n",
    "    first = nom_results[0]  #get the first result\n",
    "    lat = first['lat']\n",
    "    lon = first['lon']\n",
    "    return {'lat': lat, 'lon': lon}\n",
    "\n",
    "cities = [\"Champaign, IL\", \"Springfield, IL\", \"Bloomington, IL\"]\n",
    "\n",
    "nom = Nominatim()\n",
    "\n",
    "for city in cities:\n",
    "    lookup = get_lat_lon(nom.query(city))\n",
    "    print lookup['lat'], lookup['lon']"
   ]
  },
  {
   "cell_type": "markdown",
   "metadata": {
    "collapsed": true
   },
   "source": [
    "This is actually an entire Python script.  It is still very simple because it is just looping over a small group of cities and plainly printing out the results, but hopefully you can see where we would add in code to read in a file and write out an output.\n",
    "\n",
    "One note here:  The instantiation of nom is happening outside the function...which is kind of back practice.  However, reinstatiating it for every query significantly slows down the process.  This is a case where we made a tweak to optimize the code for speed.\n",
    "\n",
    "Speaking of which, we need to learn how we would write out a file!\n",
    "\n",
    "We've got some output now that we're just printing to our console, but we'd like to write it out to a file so we can save our results and read them into something like ArcGIS.  We're going to look at two different ways to write out these results.  First a pretty raw method, and then via the CSV module.  \n",
    "\n",
    "We can use our script again as a base but add in 1) a way to store all the results "
   ]
  },
  {
   "cell_type": "code",
   "execution_count": 2,
   "metadata": {
    "collapsed": false
   },
   "outputs": [],
   "source": [
    "from nominatim import Nominatim\n",
    "\n",
    "def get_lat_lon(nom_results):\n",
    "    first = nom_results[0]  #get the first result\n",
    "    lat = first['lat']\n",
    "    lon = first['lon']\n",
    "    return {'lat': lat, 'lon': lon}\n",
    "\n",
    "cities = [\"Champaign, IL\", \"Springfield, IL\", \"Bloomington, IL\"]\n",
    "\n",
    "nom = Nominatim()\n",
    "\n",
    "output = open('latlonresults.txt', 'wt') # note the use of 'wt' here, windows users might use 'w'\n",
    "\n",
    "headers = \"city\\tlat\\tlon\\n\" # manually putting in the tabs and newline\n",
    "\n",
    "output.write(headers) # writing the headers to the open file\n",
    "\n",
    "for city in cities:\n",
    "    lookup = get_lat_lon(nom.query(city))\n",
    "    line = city + \"\\t\" + lookup['lat'] + \"\\t\" + lookup['lon'] + \"\\n\" # creating the line contents\n",
    "    output.write(line) # writing the line to the file\n",
    "    \n",
    "output.close() # closing the file"
   ]
  },
  {
   "cell_type": "markdown",
   "metadata": {
    "collapsed": true
   },
   "source": [
    "This is a screenshot of the output file open in Word where we can see how the white space characters are formatted.  We can see that `\\t` turned into tabs and `\\n` turned into a newline.  Given that there are commas in the city name we need to use a delimiter other than a comma.  You'll want to customize this according to how you need to read in your data into the next program.\n",
    "\n",
    "<img src = \"writtenfileinword.png\" />\n",
    "\n",
    "This method of 1) open the file, 2) do the loop while writing, 3) closing the file can be valuable when you have very complex structures determining what is written or you are reading in stuff from other files.\n",
    "\n",
    "For the other example we'll use another recipe from the Python Cookbook (http://chimera.labs.oreilly.com/books/1230000000393/ch06.html) to make this happen.\n",
    "\n",
    "A major disadvantage to the previous method is that it isn't sanitizing the data in any way.  For example, we know that none of the city names have a `\\t` character within them because we can see them all.  However, if you are pulling in data from an external source and have thousands of records it isn't always possible to check what the values are.  Additionally, sometimes the destination for this output file will require a specific delimiter, and that might be a common character for the data that you are working with.  Therefore, it would be nice to use a module that automatically handled these cases for us.  The `csv writer` tools will automatically handle this.\n",
    "\n",
    "There are many ways to use the CSV module to write a file.  This is just one way.  Again, I encourage you to explore and find a recipe that works well with your own data and methods.  The method shown here will take lists and write those out such that each element in a list belongs to a different column."
   ]
  },
  {
   "cell_type": "code",
   "execution_count": 6,
   "metadata": {
    "collapsed": false
   },
   "outputs": [],
   "source": [
    "from nominatim import Nominatim\n",
    "import csv\n",
    "\n",
    "def get_lat_lon(nom_results):\n",
    "    first = nom_results[0]  #get the first result\n",
    "    lat = first['lat']\n",
    "    lon = first['lon']\n",
    "    return {'lat': lat, 'lon': lon}\n",
    "\n",
    "cities = [\"Champaign, IL\", \"Springfield, IL\", \"Bloomington, IL\"]\n",
    "\n",
    "nom = Nominatim()\n",
    "\n",
    "headers = [\"city\", \"lat\", \"lon\"]\n",
    "\n",
    "result_rows = []\n",
    "\n",
    "for city in cities:\n",
    "    lookup = get_lat_lon(nom.query(city))\n",
    "    line = [city, lookup['lat'], lookup['lon']] # creating the line contents\n",
    "    result_rows.append(line)\n",
    "    \n",
    "# at this point I've stored all my data locally and I just need to write it out.\n",
    "# This is not ideal when dealing with LARGE amounts of data.\n",
    "# Try the previous method if you are getting out of memory errors.\n",
    "\n",
    "with open('latlonresultscsvmodule.csv', 'wt') as latlonout:\n",
    "    latlonout = csv.writer(latlonout) # creates a writing object\n",
    "    latlonout.writerow(headers) # writes out one line: the headers\n",
    "    latlonout.writerows(result_rows) # writes out all the lists within this list"
   ]
  },
  {
   "cell_type": "markdown",
   "metadata": {
    "collapsed": true
   },
   "source": [
    "We can look at this file now in Word.\n",
    "\n",
    "<img src = \"latlonresultscsvmoduleinword.png\" />\n",
    "\n",
    "Looks a little different.  The quotes around the city name were automatically inserted by the CSV module to account for that value having the literal value of the delimiter character.  Both of these file open up in Excel the same.\n",
    "\n",
    "Now the only piece missing from this script is reading in city names from a file."
   ]
  },
  {
   "cell_type": "code",
   "execution_count": null,
   "metadata": {
    "collapsed": true
   },
   "outputs": [],
   "source": []
  }
 ],
 "metadata": {
  "kernelspec": {
   "display_name": "Python 2",
   "language": "python",
   "name": "python2"
  },
  "language_info": {
   "codemirror_mode": {
    "name": "ipython",
    "version": 2
   },
   "file_extension": ".py",
   "mimetype": "text/x-python",
   "name": "python",
   "nbconvert_exporter": "python",
   "pygments_lexer": "ipython2",
   "version": "2.7.6"
  }
 },
 "nbformat": 4,
 "nbformat_minor": 0
}
